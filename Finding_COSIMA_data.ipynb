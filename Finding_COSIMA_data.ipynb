{
 "cells": [
  {
   "cell_type": "markdown",
   "metadata": {},
   "source": [
    "# COSIMA Training: Finding COSIMA Data"
   ]
  },
  {
   "cell_type": "markdown",
   "metadata": {},
   "source": [
    "This is a modified version of the COSIMA Recipes notebook [Exploring The COSIMA Cookbook](https://cosima-recipes.readthedocs.io/en/latest/Tutorials/Using_Explorer_tools.html)"
   ]
  },
  {
   "cell_type": "markdown",
   "metadata": {},
   "source": [
    "## COSIMA Cookbook Database"
   ]
  },
  {
   "cell_type": "markdown",
   "metadata": {},
   "source": [
    "The COSIMA Cookbook provides a database of some of the data available at NCI.\n",
    "\n",
    "The Cookbook also provides an API to query the database and retrieve data by experiment and variable name."
   ]
  },
  {
   "cell_type": "code",
   "execution_count": null,
   "metadata": {},
   "outputs": [],
   "source": [
    "import cosima_cookbook as cc\n",
    "import cf_xarray"
   ]
  },
  {
   "cell_type": "markdown",
   "metadata": {},
   "source": [
    "To access the database you must first create a session, which is a connection you then pass to querying functions"
   ]
  },
  {
   "cell_type": "code",
   "execution_count": null,
   "metadata": {},
   "outputs": [],
   "source": [
    "session = cc.database.create_session()"
   ]
  },
  {
   "cell_type": "markdown",
   "metadata": {},
   "source": [
    "If you know the name of the experiment, and the variable in that experiment you can load that variable directly using `getvar`, which returns an [xarray DataArray](https://docs.xarray.dev/en/stable/generated/xarray.DataArray.html). e.g. the `u` ocean velocity variable from the `01deg_jra55v140_iaf` experiment, and specify just the first three files (`n=3`) for speed"
   ]
  },
  {
   "cell_type": "code",
   "execution_count": null,
   "metadata": {},
   "outputs": [],
   "source": [
    "experiment_name = '01deg_jra55v140_iaf'\n",
    "variable_name   = 'u'"
   ]
  },
  {
   "cell_type": "code",
   "execution_count": null,
   "metadata": {},
   "outputs": [],
   "source": [
    "cc.querying.getvar(expt=experiment_name, variable=variable_name, session=session, n=3)"
   ]
  },
  {
   "cell_type": "markdown",
   "metadata": {},
   "source": [
    "Inside `getvar` there is a database lookup to find all the files that contain the variable `u` in the experiment `01deg_jra55v140_iaf`, and then it does the equivalent of [`open_mfdataset`](https://docs.xarray.dev/en/stable/generated/xarray.open_mfdataset.html), which opens multiple netCDF files, reads the metadata which describes the data, and joins (concatenates) the metadata along the `time` dimension. `xarray` presents the data as if it was a single dataset, and takes care of reading data from the correct files when an operation occurs that requires reading the data."
   ]
  },
  {
   "cell_type": "markdown",
   "metadata": {},
   "source": [
    "The question then becomes, how do I find out what experiment to use, and what variables are available? The API provides `get_experiments` which returns a list of experiments:"
   ]
  },
  {
   "cell_type": "code",
   "execution_count": null,
   "metadata": {},
   "outputs": [],
   "source": [
    "cc.querying.get_experiments(session, all=True)"
   ]
  },
  {
   "cell_type": "markdown",
   "metadata": {},
   "source": [
    "And `get_variables` which returns a list of variables for a given experiment"
   ]
  },
  {
   "cell_type": "code",
   "execution_count": null,
   "metadata": {},
   "outputs": [],
   "source": [
    "variables = cc.querying.get_variables(session, experiment=experiment_name)\n",
    "variables"
   ]
  },
  {
   "cell_type": "markdown",
   "metadata": {},
   "source": [
    "But there are sometimes duplicate variables with different frequency:"
   ]
  },
  {
   "cell_type": "code",
   "execution_count": null,
   "metadata": {},
   "outputs": [],
   "source": [
    "variable_name = 'surface_salt'"
   ]
  },
  {
   "cell_type": "code",
   "execution_count": null,
   "metadata": {},
   "outputs": [],
   "source": [
    "variables[variables.name == variable_name]"
   ]
  },
  {
   "cell_type": "markdown",
   "metadata": {},
   "source": [
    "If you just try and load this data you will get an error because you will be trying to load data from different files with different temporal frequency"
   ]
  },
  {
   "cell_type": "code",
   "execution_count": null,
   "metadata": {},
   "outputs": [],
   "source": [
    "cc.querying.getvar(expt=experiment_name, variable=variable_name, session=session)"
   ]
  },
  {
   "cell_type": "markdown",
   "metadata": {},
   "source": [
    "You can get around this error by passing a `frequency` argument to `getvar` as suggested in the error message above, but you would still have to find the name of the variable you want to load by querying a pandas table. It isn't awfully user friendly, especially to those who are not python experts, or domain experts who know what to search for."
   ]
  },
  {
   "cell_type": "markdown",
   "metadata": {},
   "source": [
    "## Exploring the Cookbook Database"
   ]
  },
  {
   "cell_type": "markdown",
   "metadata": {},
   "source": [
    "The COSIMA Cookbook `explore` submodule seeks to solve the issue of how to find relevant experiments and variables within a Cookbook database and simplify the process of loading this data.\n",
    "\n",
    "It does this by providing GUI elements that users can embed in their jupyter notebooks that can be used to filter and query the database, and then load the data you want.\n",
    "\n",
    "When you load data it prints out the command used, which can be copied and used in other contexts."
   ]
  },
  {
   "cell_type": "code",
   "execution_count": null,
   "metadata": {},
   "outputs": [],
   "source": [
    "from cosima_cookbook import explore"
   ]
  },
  {
   "cell_type": "markdown",
   "metadata": {},
   "source": [
    "### Database Explorer"
   ]
  },
  {
   "cell_type": "markdown",
   "metadata": {},
   "source": [
    "The first component is `DatabaseExplorer`, which uses filtering by keyword and variable to find relevant experiments. \n",
    "\n",
    "When an experiment is selected and the \"Load Experiment\" button pushed, it opens an `ExperimentExplorer` below the Database Explorer. A detailed explanation of the `ExperimentExplorer` is in the next section.\n",
    "\n",
    "The full description of the explorer and how it works is available in COSIMA Recipes\n",
    "\n",
    "https://cosima-recipes.readthedocs.io/en/latest/Tutorials/Using_Explorer_tools.html"
   ]
  },
  {
   "cell_type": "markdown",
   "metadata": {},
   "source": [
    "The first step is to import the `explore` submodule"
   ]
  },
  {
   "cell_type": "code",
   "execution_count": null,
   "metadata": {},
   "outputs": [],
   "source": [
    "from cosima_cookbook import explore"
   ]
  },
  {
   "cell_type": "markdown",
   "metadata": {},
   "source": [
    "Then create a `DatabaseExplorer` object, passing it the already open connection to the datatbase (`session`). This can take a minute or more, so be patient ...."
   ]
  },
  {
   "cell_type": "code",
   "execution_count": null,
   "metadata": {},
   "outputs": [],
   "source": [
    "%%time\n",
    "dbx = explore.DatabaseExplorer(session=session)"
   ]
  },
  {
   "cell_type": "markdown",
   "metadata": {},
   "source": [
    "And lastly execute the returned object, which displays the explorer GUI in the jupyter notebook.\n",
    "\n",
    "Try clicking on 'Variable' and type in a search term in the 'Search: start typing' box. This does a live search of *all* variables in the database, and searches on variable name, the long name, and standard name. It can be a great way to see what sorts of variables are available. Select a variable and it will show the long name and units underneath.\n",
    "\n",
    "Try adding some variables to the the filter variables box and pushing filter, to see what experiments have those combinations of variables."
   ]
  },
  {
   "cell_type": "code",
   "execution_count": null,
   "metadata": {
    "editable": true,
    "scrolled": true,
    "slideshow": {
     "slide_type": ""
    },
    "tags": []
   },
   "outputs": [],
   "source": [
    "dbx"
   ]
  },
  {
   "cell_type": "markdown",
   "metadata": {
    "editable": true,
    "slideshow": {
     "slide_type": ""
    },
    "tags": []
   },
   "source": [
    "#### Exercise 1. \n",
    "\n",
    "If you wanted to recreate the surface mass water transformations from [this cosima recipe](https://cosima-recipes.readthedocs.io/en/latest/DocumentedExamples/Surface_Water_Mass_Transformation.html) then you would need the following variables:\n",
    "\n",
    "`surface_temp`, `surface_salt`, `pme_river`, `sfc_salt_flux_restore`, `sfc_hflux_from_runoff`, `sfc_hflux_coupler`, `sfc_hflux_pme` and `frazil_3d_int_z`\n",
    "\n",
    "Try adding all these variables to the variable filter and see which experiments might match the requirements!"
   ]
  },
  {
   "cell_type": "markdown",
   "metadata": {
    "editable": true,
    "slideshow": {
     "slide_type": ""
    },
    "tags": [
     "hide-input"
    ]
   },
   "source": [
    "<details>\n",
    "  <summary>Click for answer</summary>\n",
    "Should have 24 experiments, `1deg_jra55_SAMextr_*`, `01deg_jra55v13_ryf9091*`, `01deg_jra55v140_iaf*`, `1deg_jra55_iaf_v2.0.0rc3*` and `basal_melt_outputs`\n",
    "</details>"
   ]
  },
  {
   "cell_type": "markdown",
   "metadata": {
    "editable": true,
    "slideshow": {
     "slide_type": ""
    },
    "tags": []
   },
   "source": [
    "#### Exercise 2\n",
    "\n",
    "Remove all the variables from the filter and then add back `sea_level`. Then in the keyword filter select `access-om2-1`, then filter the experiments.\n",
    "\n",
    "One of the experiments should be `1deg_jra55_iaf_omip2_cycle6`. Select it and then press \"Load Experiment\".\n",
    "\n",
    "Select the `sea_level` variable. \n",
    "\n",
    "1. What is the long name? What are the units? \n",
    "\n",
    "2. Check the \"Frequency\" menu. What frequencies are available? What date ranges? \n",
    "\n",
    "3. Choose a 10 year date range and push the \"Load\" button. The `ExperimentExplorer` will load, and display, an `xarray.DataArray` object. What is the command used to load the data?\n",
    "\n",
    "You can copy the command and use it in this, or another notebook. Modify it to suit your requirements."
   ]
  },
  {
   "cell_type": "markdown",
   "metadata": {},
   "source": [
    "<details>\n",
    "  <summary>Click for answer</summary>\n",
    "\n",
    "1. Variable long name is \"effective sea level (eta_t + patm/(rho0*g)) on T cells\" and units are meter\n",
    "    \n",
    "2. Frequencies should be `1 daily` and `1 monthly`.    \n",
    "Date range is 1957/12/30-2018/12/30 (1 daily) and 1957/12/31-2018/11/30 (1 monthly)\n",
    "\n",
    "3. Example command to load the data:\n",
    "```python\n",
    "cc.querying.getvar(expt='1deg_jra55_iaf_omip2_cycle6', variable='sea_level', \n",
    "                          session=session, frequency='1 monthly',\n",
    "                          attrs={'cell_methods': 'time: mean'},\n",
    "                          start_time='1957-12-31 00:00:00', \n",
    "                          end_time='1967-11-30 00:00:00')\n",
    "```                \n",
    "</details>"
   ]
  },
  {
   "cell_type": "markdown",
   "metadata": {
    "editable": true,
    "slideshow": {
     "slide_type": ""
    },
    "tags": []
   },
   "source": [
    "#### Exercise 3\n",
    "\n",
    "Now open a new cell and type\n",
    "```python\n",
    "dbx.ee.data\n",
    "```\n",
    "\n",
    "What do you see?"
   ]
  },
  {
   "cell_type": "markdown",
   "metadata": {
    "editable": true,
    "slideshow": {
     "slide_type": ""
    },
    "tags": [
     "hide-input"
    ]
   },
   "source": [
    "<details>\n",
    "  <summary>Click for answer</summary>\n",
    "Should be exactly the same data as you just loaded using the explorer. The database explorer stores the experiment explorer internally as an attribute named `ee`. In turn the experiment explorer stores the data it loads in an attribute named `data`.\n",
    "</details>"
   ]
  },
  {
   "cell_type": "markdown",
   "metadata": {},
   "source": [
    "### Experiment Explorer"
   ]
  },
  {
   "cell_type": "markdown",
   "metadata": {},
   "source": [
    "The `ExperimentExplorer` can be used independently of the `DatabaseExplorer` if you already know the experiment you wish to load. \n",
    "\n",
    "When a variable is selected the long name is displayed below the box as before, but it also populates the frequency drop down and date range slider to the right. Identical variables can be present in a data set with different temporal frequencies. It is necessary to choose a frequency in this case as those variables cannot be loaded into the same `xarray.DataArray`. When a frequency is selected the date range slider may change the range of available dates if they differ between the two frequencies.\n",
    "\n",
    "It is advisable to reduce the date range you load if you know you only need the data for a limited time range, as it is much quicker to load the metadata as fewer files need to be opened and their metadata checked.\n",
    "\n",
    "Once you have selected a variable, confirmed the frequency and date range are correct, push the \"Load\" button and the data will be loaded into an `xarray.DataArray` object. When this is done the metadata from the loaded data will be displayed at the end of the cell output.\n",
    "\n",
    "The relevant command used to load the data is displayed, so that it can be copied, reused, and/or modified.\n",
    "\n",
    "The loaded data is available as the `.data` attribute of the `ExperimentExplorer` object. At any time a different variable from the same or a different experiment can be loaded, and the `.data` attribute will be updated to reflect the new data."
   ]
  },
  {
   "cell_type": "code",
   "execution_count": null,
   "metadata": {},
   "outputs": [],
   "source": [
    "experiment_name = \"1deg_jra55_iaf_omip2_cycle6\""
   ]
  },
  {
   "cell_type": "code",
   "execution_count": null,
   "metadata": {},
   "outputs": [],
   "source": [
    "ee = explore.ExperimentExplorer(session=session, experiment=experiment_name)\n",
    "ee"
   ]
  },
  {
   "cell_type": "markdown",
   "metadata": {
    "editable": true,
    "slideshow": {
     "slide_type": ""
    },
    "tags": []
   },
   "source": [
    "#### Exercise 4\n",
    "\n",
    "1. From the experiment explorer what is the variable name for `snow-ice formation (cm/day)`? (this is a variable from the ice model)\n",
    "\n",
    "2. Load the variable with daily frequency for the period 1958/01/01-1959/07/01.\n",
    "\n",
    "3. Select the first year of data and find the maximum value. What is it?\n",
    "\n",
    "4. Try making a plot of the spatial distribution of the maximum of this variable for the first year (should be a global plot)"
   ]
  },
  {
   "cell_type": "markdown",
   "metadata": {
    "editable": true,
    "slideshow": {
     "slide_type": ""
    },
    "tags": [
     "hide-input"
    ]
   },
   "source": [
    "<details>\n",
    "  <summary>Click for answer</summary>\n",
    "\n",
    "1. Variable name is `snoice`\n",
    "\n",
    "\n",
    "2.\n",
    "```python\n",
    "ee.data.sel(time=slice('1958')).max().values\n",
    "```\n",
    "\n",
    "3. Answer: `5.7867136`\n",
    "\n",
    "4.\n",
    "```python\n",
    "ee.data.sel(time=slice('1958')).max('time').plot()\n",
    "```\n",
    "</details>"
   ]
  }
 ],
 "metadata": {
  "kernelspec": {
   "display_name": "Python [conda env:analysis3-23.04] *",
   "language": "python",
   "name": "conda-env-analysis3-23.04-py"
  },
  "language_info": {
   "codemirror_mode": {
    "name": "ipython",
    "version": 3
   },
   "file_extension": ".py",
   "mimetype": "text/x-python",
   "name": "python",
   "nbconvert_exporter": "python",
   "pygments_lexer": "ipython3",
   "version": "3.9.17"
  },
  "thumbnail_figure": "assets/explore.png",
  "widgets": {
   "application/vnd.jupyter.widget-state+json": {
    "state": {
     "048300da96204226af1970e34b75a1a2": {
      "model_module": "@jupyter-widgets/base",
      "model_module_version": "2.0.0",
      "model_name": "LayoutModel",
      "state": {}
     },
     "08a6b869f8a94ebf80eabcb2a646473e": {
      "model_module": "@jupyter-widgets/controls",
      "model_module_version": "2.0.0",
      "model_name": "ButtonModel",
      "state": {
       "icon": "angle-double-left",
       "layout": "IPY_MODEL_d39c430720514ee2a66165291a40196d",
       "style": "IPY_MODEL_52cd6d5e020447dcaf6d4c61d94d8b00",
       "tooltip": "Remove selected variable from filter"
      }
     },
     "08e8a1f950914823884e2ded43d1c2ea": {
      "model_module": "@jupyter-widgets/controls",
      "model_module_version": "2.0.0",
      "model_name": "HBoxModel",
      "state": {
       "children": [
        "IPY_MODEL_b7f35264690e4e6e9b459458cf687fc8",
        "IPY_MODEL_29c0f1ab5ac0476d98b2fce44bc844f1"
       ],
       "layout": "IPY_MODEL_0a8b4f5259244342b91c6610318fe073"
      }
     },
     "0a8b4f5259244342b91c6610318fe073": {
      "model_module": "@jupyter-widgets/base",
      "model_module_version": "2.0.0",
      "model_name": "LayoutModel",
      "state": {}
     },
     "0ca60c0d5bd0448db4dd9176656030a2": {
      "model_module": "@jupyter-widgets/controls",
      "model_module_version": "2.0.0",
      "model_name": "CheckboxModel",
      "state": {
       "description": "Hide restarts",
       "disabled": false,
       "indent": false,
       "layout": "IPY_MODEL_52fa63dd28184b3f834995dc59ec4441",
       "style": "IPY_MODEL_de148d37229e4cb59b14f58e578cafdd",
       "value": true
      }
     },
     "142e18e6f33f41a798967e3718f0d6ad": {
      "model_module": "@jupyter-widgets/base",
      "model_module_version": "2.0.0",
      "model_name": "LayoutModel",
      "state": {
       "flex": "0 0 40%"
      }
     },
     "167ffe8dcd8b43e5a6bef416bdec7e81": {
      "model_module": "@jupyter-widgets/base",
      "model_module_version": "2.0.0",
      "model_name": "LayoutModel",
      "state": {
       "width": "20%"
      }
     },
     "169517167c004e2aa1c1794c02206ada": {
      "model_module": "@jupyter-widgets/controls",
      "model_module_version": "2.0.0",
      "model_name": "ButtonModel",
      "state": {
       "description": "Load",
       "layout": "IPY_MODEL_167ffe8dcd8b43e5a6bef416bdec7e81",
       "style": "IPY_MODEL_f0509693f6984778a9fbb1542ceb4333",
       "tooltip": "Click to load data"
      }
     },
     "16e039090a964e1281e1b94f0c4bf662": {
      "model_module": "@jupyter-widgets/base",
      "model_module_version": "2.0.0",
      "model_name": "LayoutModel",
      "state": {}
     },
     "17edca6b7c4f4e8596cc77bab2a7dc40": {
      "model_module": "@jupyter-widgets/controls",
      "model_module_version": "2.0.0",
      "model_name": "ButtonStyleModel",
      "state": {
       "font_family": null,
       "font_size": null,
       "font_style": null,
       "font_variant": null,
       "font_weight": null,
       "text_color": null,
       "text_decoration": null
      }
     },
     "1ac81014683f4eb591241f8b70ce1e0e": {
      "model_module": "@jupyter-widgets/base",
      "model_module_version": "2.0.0",
      "model_name": "LayoutModel",
      "state": {}
     },
     "1ddfc451d0764d339421840856a3c769": {
      "model_module": "@jupyter-widgets/base",
      "model_module_version": "2.0.0",
      "model_name": "LayoutModel",
      "state": {}
     },
     "1f7a6b581a304aad804a59defd08fe81": {
      "model_module": "@jupyter-widgets/controls",
      "model_module_version": "2.0.0",
      "model_name": "CheckboxStyleModel",
      "state": {
       "description_width": ""
      }
     },
     "245c1d045a14458bbf8d04e2148982ef": {
      "model_module": "@jupyter-widgets/controls",
      "model_module_version": "2.0.0",
      "model_name": "DescriptionStyleModel",
      "state": {
       "description_width": ""
      }
     },
     "259f5539ca914979b73d16b4e3be5f0e": {
      "model_module": "@jupyter-widgets/base",
      "model_module_version": "2.0.0",
      "model_name": "LayoutModel",
      "state": {
       "padding": "0px 5px"
      }
     },
     "2848fee20b044e0d91960b2fe59b6f44": {
      "model_module": "@jupyter-widgets/base",
      "model_module_version": "2.0.0",
      "model_name": "LayoutModel",
      "state": {
       "flex": "0 0 65%",
       "padding": "0px 10px"
      }
     },
     "29c0f1ab5ac0476d98b2fce44bc844f1": {
      "model_module": "@jupyter-widgets/controls",
      "model_module_version": "2.0.0",
      "model_name": "VBoxModel",
      "state": {
       "children": [
        "IPY_MODEL_ddc6caf0b6e34eb1acafddc93f157ada",
        "IPY_MODEL_8a0e07becd4f405390a994d7fea78c02",
        "IPY_MODEL_fe76d0af88ca4b93ace5db26d364a59f"
       ],
       "layout": "IPY_MODEL_c34e96a4a0c645c0ac3d515eba495ce6"
      }
     },
     "2b9abfb12f894f9fb40dac848369880a": {
      "model_module": "@jupyter-widgets/controls",
      "model_module_version": "2.0.0",
      "model_name": "DescriptionStyleModel",
      "state": {
       "description_width": ""
      }
     },
     "2c6de05d5b8d4a43861736c27415248e": {
      "model_module": "@jupyter-widgets/base",
      "model_module_version": "2.0.0",
      "model_name": "LayoutModel",
      "state": {
       "flex": "0 0 30%",
       "padding": "0px 5px"
      }
     },
     "2d6b69e438e0413ab3bd31f8cf5c1f8e": {
      "model_module": "@jupyter-widgets/base",
      "model_module_version": "2.0.0",
      "model_name": "LayoutModel",
      "state": {
       "padding": "0px 5px"
      }
     },
     "3077295c8417401abbc95948e90ac7df": {
      "model_module": "@jupyter-widgets/controls",
      "model_module_version": "2.0.0",
      "model_name": "SelectMultipleModel",
      "state": {
       "_options_labels": [
        "access-om2",
        "access-om2-01",
        "access-om2-025",
        "access-om2-1",
        "bgc",
        "cosima",
        "era5",
        "forcing",
        "freshwater",
        "gmd-2020",
        "iaf",
        "iamip2",
        "jra55-do-v1.3",
        "jra55-do-v1.3.0",
        "jra55-do-v1.4.0",
        "jra55-do-v1.5.0",
        "jra55-do-v1.5.0.1",
        "mom6",
        "obs",
        "omip2",
        "omip2spunup",
        "one",
        "perturbation",
        "quarter",
        "raf",
        "reanalysis",
        "ryf",
        "samx",
        "sensitivity",
        "tenth",
        "test",
        "weddell"
       ],
       "index": [],
       "layout": "IPY_MODEL_a11d173ab5084ae0bd12e1dcfc6b66c0",
       "rows": 15,
       "style": "IPY_MODEL_f55eb82c8d39434b90929c0bc985ed6d"
      }
     },
     "3428586d0b31492fadcc4fb7dd77906c": {
      "model_module": "@jupyter-widgets/controls",
      "model_module_version": "2.0.0",
      "model_name": "VBoxModel",
      "state": {
       "children": [
        "IPY_MODEL_fe4abd34eb6b448aa69729bee6f3dcf0",
        "IPY_MODEL_accdcc651f9943e6b93308c247035cec",
        "IPY_MODEL_60eace04b3684282981fd54202ca409c"
       ],
       "layout": "IPY_MODEL_2c6de05d5b8d4a43861736c27415248e"
      }
     },
     "342a053d0ee947b58d8518d5cf4902be": {
      "model_module": "@jupyter-widgets/controls",
      "model_module_version": "2.0.0",
      "model_name": "DropdownModel",
      "state": {
       "_options_labels": [
        "All models",
        "Atmosphere only",
        "Ice only",
        "Land only",
        "Ocean only"
       ],
       "index": null,
       "layout": "IPY_MODEL_d594ff1b0f0e436a8c6c28ca025cb2bd",
       "style": "IPY_MODEL_e99900c3cc2141b8a9895863c6487fd8"
      }
     },
     "3968202019dc4214bfbe77f9ff0af101": {
      "model_module": "@jupyter-widgets/controls",
      "model_module_version": "2.0.0",
      "model_name": "CheckboxStyleModel",
      "state": {
       "description_width": ""
      }
     },
     "3f95c41e3ebb424183c8fb99e3064574": {
      "model_module": "@jupyter-widgets/controls",
      "model_module_version": "2.0.0",
      "model_name": "HTMLStyleModel",
      "state": {
       "description_width": "",
       "font_size": null,
       "text_color": null
      }
     },
     "42df454a6e324994bfba15e77b87dba5": {
      "model_module": "@jupyter-widgets/controls",
      "model_module_version": "2.0.0",
      "model_name": "DropdownModel",
      "state": {
       "_options_labels": [
        "01deg_jra55_iaf_cycle3_melt",
        "01deg_jra55_SAMextr_0203_from9091",
        "01deg_jra55_SAMextr_1011_from9091",
        "01deg_jra55_SAMextr_9192_from9091",
        "01deg_jra55_SAMextr_9899_from9091",
        "01deg_jra55v13_iaf",
        "01deg_jra55v13_iaf_4hourly",
        "01deg_jra55v13_ryf9091",
        "01deg_jra55v13_ryf9091_21mbath",
        "01deg_jra55v13_ryf9091_21mbath_5mdz",
        "01deg_jra55v13_ryf9091_21mbath_CM2atm",
        "01deg_jra55v13_ryf9091_5Kv",
        "01deg_jra55v13_ryf9091_easterlies_down10",
        "01deg_jra55v13_ryf9091_easterlies_up10",
        "01deg_jra55v13_ryf9091_easterlies_up10_meridional",
        "01deg_jra55v13_ryf9091_easterlies_up10_noDSW",
        "01deg_jra55v13_ryf9091_easterlies_up10_zonal",
        "01deg_jra55v13_ryf9091_k_smag_iso3",
        "01deg_jra55v13_ryf9091_OFAM3visc",
        "01deg_jra55v13_ryf9091_qian_ctrl",
        "01deg_jra55v13_ryf9091_qian_wthmp",
        "01deg_jra55v13_ryf9091_qian_wthp",
        "01deg_jra55v13_ryf9091_qian_wtlp",
        "01deg_jra55v13_ryf9091_rerun_for_easterlies",
        "01deg_jra55v13_ryf9091_weddell_down1",
        "01deg_jra55v13_ryf9091_weddell_down2",
        "01deg_jra55v13_ryf9091_weddell_up1",
        "01deg_jra55v140_iaf",
        "01deg_jra55v140_iaf_cycle2",
        "01deg_jra55v140_iaf_cycle3",
        "01deg_jra55v140_iaf_cycle3_antarctic_tracers",
        "01deg_jra55v140_iaf_cycle3_HF",
        "01deg_jra55v140_iaf_cycle4",
        "01deg_jra55v140_iaf_cycle4_jra55v150_extension",
        "01deg_jra55v140_iaf_cycle4_rerun_from_1980",
        "01deg_jra55v140_iaf_cycle4_rerun_from_1983",
        "01deg_jra55v140_iaf_cycle4_rerun_from_1986",
        "01deg_jra55v140_iaf_KvJ09",
        "01deg_jra55v150_iaf_cycle1",
        "01deg_jra55v150_iaf_cycle1_old",
        "025deg_era5_iaf",
        "025deg_era5_ryf",
        "025deg_jra55_iaf_era5comparison",
        "025deg_jra55_iaf_omip2_cycle1",
        "025deg_jra55_iaf_omip2_cycle2",
        "025deg_jra55_iaf_omip2_cycle3",
        "025deg_jra55_iaf_omip2_cycle4",
        "025deg_jra55_iaf_omip2_cycle5",
        "025deg_jra55_iaf_omip2_cycle6",
        "025deg_jra55_iaf_omip2_cycle6_14to17",
        "025deg_jra55_iaf_omip2_cycle6_78to08",
        "025deg_jra55_iaf_omip2_cycle6_ext",
        "025deg_jra55_iaf_omip_straits_topo2_cycle1",
        "025deg_jra55_iaf_omip_straits_topo3_cycle1",
        "025deg_jra55_iaf_omip_straits_topo4_cycle1",
        "025deg_jra55_iaf_omip_straits_topo5_cycle1",
        "025deg_jra55_iaf_omip_straits_topo_cycle1",
        "025deg_jra55_ryf9091_bgc",
        "025deg_jra55_ryf9091_gadi",
        "025deg_jra55_ryf9091_gadi_noGM",
        "025deg_jra55_ryf9091_gadi_norediGM",
        "025deg_jra55_ryf9091_GMhi",
        "025deg_jra55_ryf_era5comparison",
        "025deg_jra55v13_iaf_gmredi6",
        "025deg_jra55v13_ryf8485_RCP45",
        "025deg_jra55v13_ryf8485_spinup",
        "025deg_jra55v13_ryf9091_gmredi6",
        "025deg_jra55v13_SAMx_0203_from_ryf9091_yr160_gmredi6",
        "025deg_jra55v13_SAMx_1011_from_ryf9091_yr160_gmredi6",
        "025deg_jra55v13_SAMx_9192_from_ryf9091_yr160_gmredi6",
        "025deg_jra55v13_SAMx_9899_from_ryf9091_yr160_gmredi6",
        "1deg_era5_iaf",
        "1deg_era5_ryf",
        "1deg_iamip2_CMCC-ESM2ssp126",
        "1deg_iamip2_CMCC-ESM2ssp585",
        "1deg_iamip2_con",
        "1deg_iamip2_EC-Earth3ssp126",
        "1deg_iamip2_EC-Earth3ssp585",
        "1deg_iamip2_exc",
        "1deg_iamip2_his",
        "1deg_jra55_iaf_era5comparison",
        "1deg_jra55_iaf_omip2_cycle1",
        "1deg_jra55_iaf_omip2_cycle2",
        "1deg_jra55_iaf_omip2_cycle3",
        "1deg_jra55_iaf_omip2_cycle4",
        "1deg_jra55_iaf_omip2_cycle5",
        "1deg_jra55_iaf_omip2_cycle6",
        "1deg_jra55_iaf_omip2_cycle6_bgcinit",
        "1deg_jra55_iaf_omip2dEdd_cycle1",
        "1deg_jra55_iaf_omip2fe03_cycle1",
        "1deg_jra55_iaf_omip2femip_cycle1",
        "1deg_jra55_iaf_omip2spunup_cycle1",
        "1deg_jra55_iaf_omip2spunup_cycle10",
        "1deg_jra55_iaf_omip2spunup_cycle11",
        "1deg_jra55_iaf_omip2spunup_cycle12",
        "1deg_jra55_iaf_omip2spunup_cycle13",
        "1deg_jra55_iaf_omip2spunup_cycle14",
        "1deg_jra55_iaf_omip2spunup_cycle15",
        "1deg_jra55_iaf_omip2spunup_cycle16",
        "1deg_jra55_iaf_omip2spunup_cycle17",
        "1deg_jra55_iaf_omip2spunup_cycle18",
        "1deg_jra55_iaf_omip2spunup_cycle19",
        "1deg_jra55_iaf_omip2spunup_cycle2",
        "1deg_jra55_iaf_omip2spunup_cycle20",
        "1deg_jra55_iaf_omip2spunup_cycle21",
        "1deg_jra55_iaf_omip2spunup_cycle22",
        "1deg_jra55_iaf_omip2spunup_cycle23",
        "1deg_jra55_iaf_omip2spunup_cycle24",
        "1deg_jra55_iaf_omip2spunup_cycle25",
        "1deg_jra55_iaf_omip2spunup_cycle26",
        "1deg_jra55_iaf_omip2spunup_cycle27",
        "1deg_jra55_iaf_omip2spunup_cycle28",
        "1deg_jra55_iaf_omip2spunup_cycle29",
        "1deg_jra55_iaf_omip2spunup_cycle3",
        "1deg_jra55_iaf_omip2spunup_cycle30",
        "1deg_jra55_iaf_omip2spunup_cycle31",
        "1deg_jra55_iaf_omip2spunup_cycle32",
        "1deg_jra55_iaf_omip2spunup_cycle33",
        "1deg_jra55_iaf_omip2spunup_cycle34",
        "1deg_jra55_iaf_omip2spunup_cycle35",
        "1deg_jra55_iaf_omip2spunup_cycle36",
        "1deg_jra55_iaf_omip2spunup_cycle37",
        "1deg_jra55_iaf_omip2spunup_cycle38",
        "1deg_jra55_iaf_omip2spunup_cycle39",
        "1deg_jra55_iaf_omip2spunup_cycle4",
        "1deg_jra55_iaf_omip2spunup_cycle40",
        "1deg_jra55_iaf_omip2spunup_cycle41",
        "1deg_jra55_iaf_omip2spunup_cycle42",
        "1deg_jra55_iaf_omip2spunup_cycle43",
        "1deg_jra55_iaf_omip2spunup_cycle44",
        "1deg_jra55_iaf_omip2spunup_cycle45",
        "1deg_jra55_iaf_omip2spunup_cycle46",
        "1deg_jra55_iaf_omip2spunup_cycle47",
        "1deg_jra55_iaf_omip2spunup_cycle48",
        "1deg_jra55_iaf_omip2spunup_cycle49",
        "1deg_jra55_iaf_omip2spunup_cycle5",
        "1deg_jra55_iaf_omip2spunup_cycle50",
        "1deg_jra55_iaf_omip2spunup_cycle6",
        "1deg_jra55_iaf_omip2spunup_cycle7",
        "1deg_jra55_iaf_omip2spunup_cycle8",
        "1deg_jra55_iaf_omip2spunup_cycle9",
        "1deg_jra55_iaf_v2.0.0rc3",
        "1deg_jra55_iaf_v2.0.0rc3_nonuniform_albedo",
        "1deg_jra55_ryf9091_gadi",
        "1deg_jra55_ryf9091_kds50_bkd",
        "1deg_jra55_ryf_iamip2_con",
        "1deg_jra55_ryf_iamip2_sens_conflux",
        "1deg_jra55_ryf_iamip2_sens_control",
        "1deg_jra55_ryf_iamip2_sens_dedd",
        "1deg_jra55_ryf_iamip2_sens_ktherm",
        "1deg_jra55_ryf_iamip2_sens_mp",
        "1deg_jra55_ryf_iamip2_sens_wish",
        "1deg_jra55_SAMextr_ryf0203_from9091_kds50",
        "1deg_jra55_SAMextr_ryf1011_from9091_kds50",
        "1deg_jra55_SAMextr_ryf9192_from9091_kds50",
        "1deg_jra55_SAMextr_ryf9899_from9091_kds50",
        "1deg_jra55v131_ryf_const_albedo",
        "1deg_jra55v131_ryf_nonuniform_albedo",
        "1deg_jra55v13_iaf_spinup1_B1",
        "1deg_jra55v13_ryf0304_RCP45",
        "1deg_jra55v13_ryf0304_spinup",
        "1deg_jra55v13_ryf8485_RCP45",
        "1deg_jra55v13_ryf8485_spinup",
        "1deg_jra55v13_ryf9091_RCP45",
        "1deg_jra55v13_ryf9091_spinup",
        "1deg_jra55v14_ryf",
        "basal_melt_outputs",
        "eac-zstar-v1",
        "eac-zstar-v2",
        "global-01-v1",
        "global-01-v2",
        "global-01-v3",
        "JRA55-RYF-1-4",
        "jra55v13_iaf",
        "jra55v13_ryf8485",
        "jra55v13_ryf8485_freshRCP45",
        "jra55v13_ryf8485_freshRCP85",
        "MRI-JRA55-do-1-4-0",
        "OM4_025.JRA_RYF",
        "panan-01-zstar-om4BC",
        "panant-0025-zstar-ACCESSyr2",
        "panant-005-zstar-ACCESSyr2",
        "panant-01-hycom1",
        "panant-01-hycom1-v13",
        "panant-01-zstar",
        "panant-01-zstar-ACCESSyr2",
        "panant-01-zstar-ACCESSyr2_first_run",
        "panant-01-zstar-OM4",
        "panant-01-zstar-v13",
        "panant-hycom1",
        "panant-v2",
        "woa18"
       ],
       "index": 86,
       "layout": "IPY_MODEL_b89f0697249146618197cf403a364522",
       "style": "IPY_MODEL_82c17b2817294db5a68e1db18f9d25c2"
      }
     },
     "4652150a64f04c1883120deb0d96a87d": {
      "model_module": "@jupyter-widgets/base",
      "model_module_version": "2.0.0",
      "model_name": "LayoutModel",
      "state": {}
     },
     "46b4a1ea4d334b55b7b9d17f67b65b1b": {
      "model_module": "@jupyter-widgets/base",
      "model_module_version": "2.0.0",
      "model_name": "LayoutModel",
      "state": {
       "padding": "0px 5px",
       "width": "auto"
      }
     },
     "48547996defa4e6cb15c346f0853bb9a": {
      "model_module": "@jupyter-widgets/controls",
      "model_module_version": "2.0.0",
      "model_name": "HTMLStyleModel",
      "state": {
       "description_width": "",
       "font_size": null,
       "text_color": null
      }
     },
     "49a8ce14ba214d2cb94dfbcec2218ffa": {
      "model_module": "@jupyter-widgets/base",
      "model_module_version": "2.0.0",
      "model_name": "LayoutModel",
      "state": {
       "padding": "0px 5px"
      }
     },
     "4c5e82d4d4c147d6b3296f6ccd573cc4": {
      "model_module": "@jupyter-widgets/controls",
      "model_module_version": "2.0.0",
      "model_name": "TextStyleModel",
      "state": {
       "description_width": "",
       "font_size": null,
       "text_color": null
      }
     },
     "4e9d7de6b0ce4a2fab241af5641ac5f9": {
      "model_module": "@jupyter-widgets/base",
      "model_module_version": "2.0.0",
      "model_name": "LayoutModel",
      "state": {}
     },
     "516508d0e12047f89c44e9eef64a733c": {
      "model_module": "@jupyter-widgets/controls",
      "model_module_version": "2.0.0",
      "model_name": "TextModel",
      "state": {
       "layout": "IPY_MODEL_7ff597bb44e9430cb75ca61acaae1dc0",
       "placeholder": "Search: start typing",
       "style": "IPY_MODEL_f9d4062ef989423099b9c34fcd3270bb"
      }
     },
     "52cd6d5e020447dcaf6d4c61d94d8b00": {
      "model_module": "@jupyter-widgets/controls",
      "model_module_version": "2.0.0",
      "model_name": "ButtonStyleModel",
      "state": {
       "font_family": null,
       "font_size": null,
       "font_style": null,
       "font_variant": null,
       "font_weight": null,
       "text_color": null,
       "text_decoration": null
      }
     },
     "52fa63dd28184b3f834995dc59ec4441": {
      "model_module": "@jupyter-widgets/base",
      "model_module_version": "2.0.0",
      "model_name": "LayoutModel",
      "state": {}
     },
     "54d485c00a62484b8e79be207e21d8e5": {
      "model_module": "@jupyter-widgets/base",
      "model_module_version": "2.0.0",
      "model_name": "LayoutModel",
      "state": {}
     },
     "56437e033076416fb6234118ac04285f": {
      "model_module": "@jupyter-widgets/base",
      "model_module_version": "2.0.0",
      "model_name": "LayoutModel",
      "state": {
       "flex": "0 0 40%"
      }
     },
     "5644818b1c924b3e959a7e8d422087f7": {
      "model_module": "@jupyter-widgets/controls",
      "model_module_version": "2.0.0",
      "model_name": "CheckboxModel",
      "state": {
       "description": "Hide restarts",
       "disabled": false,
       "indent": false,
       "layout": "IPY_MODEL_54d485c00a62484b8e79be207e21d8e5",
       "style": "IPY_MODEL_3968202019dc4214bfbe77f9ff0af101",
       "value": true
      }
     },
     "5c532acb63dc4f749bb859e1215e3a89": {
      "model_module": "@jupyter-widgets/controls",
      "model_module_version": "2.0.0",
      "model_name": "ButtonStyleModel",
      "state": {
       "font_family": null,
       "font_size": null,
       "font_style": null,
       "font_variant": null,
       "font_weight": null,
       "text_color": null,
       "text_decoration": null
      }
     },
     "5e46ad3d49f0437da684bdb763c1f230": {
      "model_module": "@jupyter-widgets/base",
      "model_module_version": "2.0.0",
      "model_name": "LayoutModel",
      "state": {}
     },
     "5e7f547045374835807a8dfe6562fd34": {
      "model_module": "@jupyter-widgets/controls",
      "model_module_version": "2.0.0",
      "model_name": "DropdownModel",
      "state": {
       "_options_labels": [
        "All models",
        "Ice only",
        "Ocean only"
       ],
       "index": null,
       "layout": "IPY_MODEL_b450e564007c4e7483987ef84be329b7",
       "style": "IPY_MODEL_2b9abfb12f894f9fb40dac848369880a"
      }
     },
     "5f2818a3084f4bc5954ddde3d9d3f275": {
      "model_module": "@jupyter-widgets/base",
      "model_module_version": "2.0.0",
      "model_name": "LayoutModel",
      "state": {}
     },
     "60eace04b3684282981fd54202ca409c": {
      "model_module": "@jupyter-widgets/controls",
      "model_module_version": "2.0.0",
      "model_name": "ButtonModel",
      "state": {
       "description": "Load Experiment",
       "layout": "IPY_MODEL_c56d2b5a6a2f4b258d51e995f8c13442",
       "style": "IPY_MODEL_c5740970d06d462ca61fa969f84409a6",
       "tooltip": "Click to load experiment"
      }
     },
     "68cb3c8d84ea42d59bb246d1c4633f74": {
      "model_module": "@jupyter-widgets/controls",
      "model_module_version": "2.0.0",
      "model_name": "VBoxModel",
      "state": {
       "children": [
        "IPY_MODEL_3077295c8417401abbc95948e90ac7df",
        "IPY_MODEL_6d5fd1bb8fd9469eadd7a38e509ef9aa"
       ],
       "layout": "IPY_MODEL_899dac64f9f54bb5bc838674ba0ffaa8"
      }
     },
     "6a965ff9eaed4f1d80b1a200dc856c75": {
      "model_module": "@jupyter-widgets/base",
      "model_module_version": "2.0.0",
      "model_name": "LayoutModel",
      "state": {}
     },
     "6d5fd1bb8fd9469eadd7a38e509ef9aa": {
      "model_module": "@jupyter-widgets/controls",
      "model_module_version": "2.0.0",
      "model_name": "ButtonModel",
      "state": {
       "description": "Clear",
       "layout": "IPY_MODEL_d3d0207e4dc846b7a620a615b422cd35",
       "style": "IPY_MODEL_17edca6b7c4f4e8596cc77bab2a7dc40",
       "tooltip": "Click to clear selected keywords"
      }
     },
     "6e2a9784f2524ef287fbd4959065bb66": {
      "model_module": "@jupyter-widgets/controls",
      "model_module_version": "2.0.0",
      "model_name": "DescriptionStyleModel",
      "state": {
       "description_width": ""
      }
     },
     "6ecfea3274b04dfaa4de2b34825d3054": {
      "model_module": "@jupyter-widgets/controls",
      "model_module_version": "2.0.0",
      "model_name": "DescriptionStyleModel",
      "state": {
       "description_width": ""
      }
     },
     "720e3ec3c26c41ad8e72884e3722bb23": {
      "model_module": "@jupyter-widgets/controls",
      "model_module_version": "2.0.0",
      "model_name": "VBoxModel",
      "state": {
       "children": [
        "IPY_MODEL_96d53f32a64f48aeb1934efa879fae21",
        "IPY_MODEL_08a6b869f8a94ebf80eabcb2a646473e"
       ],
       "layout": "IPY_MODEL_8e8248098be34ddb8b9e656a248feb1b"
      }
     },
     "78429ab3224649a189a6514c2b31de39": {
      "model_module": "@jupyter-widgets/controls",
      "model_module_version": "2.0.0",
      "model_name": "HBoxModel",
      "state": {
       "children": [
        "IPY_MODEL_ab10ebd1e83245ef91edd93f1ace82ef",
        "IPY_MODEL_720e3ec3c26c41ad8e72884e3722bb23",
        "IPY_MODEL_887ca30e86944a37ae7246ffdf3c457c"
       ],
       "layout": "IPY_MODEL_142e18e6f33f41a798967e3718f0d6ad"
      }
     },
     "79af1d95dcd3455d8e7225d8c2f0e2ea": {
      "model_module": "@jupyter-widgets/controls",
      "model_module_version": "2.0.0",
      "model_name": "HTMLModel",
      "state": {
       "layout": "IPY_MODEL_d355771ce3254b8e9dd51cc7d8921859",
       "style": "IPY_MODEL_bba997382fac48bcafcab6bd1fe62a01",
       "value": "\n        <style>\n            .info { font: normal 90% Verdana, Arial, sans-serif; }\n            .info a:hover { color: red; text-decoration: underline; }\n        </style>\n        \n        <div class=\"info\">\n        <table>\n        <tr><td><b>Experiment:</b></td> <td>01deg_jra55_iaf_cycle3_melt</td></tr>\n        <tr><td style=\"vertical-align:top;\"><b>Description:</b></td> <td></td></tr>\n        <tr><td style=\"vertical-align:top;\"><b>Notes:</b></td> <td></td></tr>\n        <tr><td><b>Contact:</b></td> <td> &lt;<a href=\"mailto:\" target=\"_blank\"></a>&gt;</td></tr>\n        <tr><td><b>Control repo:</b></td> <td><a href=\"\" target=\"_blank\"></a></td></tr>\n        <tr><td><b>No. files:</b></td> <td>1079</td></tr>\n        <tr><td><b>Created:</b></td> <td></td></tr>\n        </table>\n        </div>\n        "
      }
     },
     "7b2258f3de784064b47af62bb6f87b42": {
      "model_module": "@jupyter-widgets/controls",
      "model_module_version": "2.0.0",
      "model_name": "HTMLStyleModel",
      "state": {
       "description_width": "",
       "font_size": null,
       "text_color": null
      }
     },
     "7ff597bb44e9430cb75ca61acaae1dc0": {
      "model_module": "@jupyter-widgets/base",
      "model_module_version": "2.0.0",
      "model_name": "LayoutModel",
      "state": {
       "padding": "0px 5px",
       "width": "auto"
      }
     },
     "82c17b2817294db5a68e1db18f9d25c2": {
      "model_module": "@jupyter-widgets/controls",
      "model_module_version": "2.0.0",
      "model_name": "DescriptionStyleModel",
      "state": {
       "description_width": ""
      }
     },
     "885d97b1a40440879a36577e37817a8d": {
      "model_module": "@jupyter-widgets/base",
      "model_module_version": "2.0.0",
      "model_name": "LayoutModel",
      "state": {
       "padding": "0px 5px",
       "width": "auto"
      }
     },
     "887ca30e86944a37ae7246ffdf3c457c": {
      "model_module": "@jupyter-widgets/controls",
      "model_module_version": "2.0.0",
      "model_name": "VBoxModel",
      "state": {
       "children": [
        "IPY_MODEL_99455dd84ada4ece94a2f7667bc9a0c0",
        "IPY_MODEL_d1759f279ee548d388c9505a068f337f"
       ],
       "layout": "IPY_MODEL_49a8ce14ba214d2cb94dfbcec2218ffa"
      }
     },
     "888c5f0b736d4bb2978c4eed04bd3187": {
      "model_module": "@jupyter-widgets/controls",
      "model_module_version": "2.0.0",
      "model_name": "HTMLModel",
      "state": {
       "layout": "IPY_MODEL_6a965ff9eaed4f1d80b1a200dc856c75",
       "style": "IPY_MODEL_48547996defa4e6cb15c346f0853bb9a",
       "value": "\n            <h3>Experiment Explorer</h3>\n\n            <p>Select a variable from the list to display metadata information.\n            Where appropriate select a date range. Pressing the <b>Load</b> button\n            will read the data into an <tt>xarray DataArray</tt> using the COSIMA Cookook. \n            The command used is output and can be copied and modified as required.</p>\n\n            <p>The loaded DataArray is accessible as the <tt>.data</tt> attribute \n            of the ExperimentExplorer object.</p> \n\n            <p>The selected experiment can be changed to any experiment present\n            in the current database session.</p>\n            "
      }
     },
     "899dac64f9f54bb5bc838674ba0ffaa8": {
      "model_module": "@jupyter-widgets/base",
      "model_module_version": "2.0.0",
      "model_name": "LayoutModel",
      "state": {
       "flex": "0 0 40%"
      }
     },
     "8a0e07becd4f405390a994d7fea78c02": {
      "model_module": "@jupyter-widgets/controls",
      "model_module_version": "2.0.0",
      "model_name": "DropdownModel",
      "state": {
       "description": "Cell methods",
       "disabled": true,
       "index": null,
       "layout": "IPY_MODEL_5e46ad3d49f0437da684bdb763c1f230",
       "style": "IPY_MODEL_98b77b73713c4c598cf9c4795363455a"
      }
     },
     "8a1322f8f30e4ed79bcb2271088ebe66": {
      "model_module": "@jupyter-widgets/controls",
      "model_module_version": "2.0.0",
      "model_name": "HTMLStyleModel",
      "state": {
       "description_width": "",
       "font_size": null,
       "text_color": null
      }
     },
     "8e8248098be34ddb8b9e656a248feb1b": {
      "model_module": "@jupyter-widgets/base",
      "model_module_version": "2.0.0",
      "model_name": "LayoutModel",
      "state": {
       "height": "100%",
       "padding": "100px 5px"
      }
     },
     "90111738a5314d6389d5999803e1ff75": {
      "model_module": "@jupyter-widgets/controls",
      "model_module_version": "2.0.0",
      "model_name": "SelectModel",
      "state": {
       "_options_labels": [
        "APE",
        "Ah",
        "Aq",
        "Coriolis",
        "D",
        "DTBT",
        "En",
        "First_direction",
        "H0",
        "HTE",
        "HTN",
        "Heat",
        "Heat_PmE",
        "Heat_anom",
        "Heat_chg",
        "IX_TRANS",
        "IY_TRANS",
        "Interface",
        "J_kg_to_Q",
        "KE",
        "Kd_interface",
        "Kd_shear",
        "Kv_shear",
        "Layer",
        "LwLatSens",
        "MLD",
        "MLD_MLE_filtered",
        "Mass",
        "Mass_anom",
        "Mass_chg",
        "Mass_lay",
        "NCAT",
        "Ntrunc",
        "PP_net",
        "PP_net_m",
        "PRCmE",
        "S_adx",
        "S_ady",
        "Salt",
        "Salt_anom",
        "Salt_chg",
        "Sinz",
        "Sinz_m",
        "T_adx",
        "T_adx_2d",
        "T_ady",
        "T_ady_2d",
        "Tair",
        "Tair_m",
        "Temp",
        "Tinz",
        "Tinz_m",
        "Tsfc_m",
        "VGRDi",
        "__xarray_dataarray_variable__",
        "aaniso_bih",
        "adic_int100",
        "adic_intmld",
        "adic_xflux_adv",
        "adic_yflux_adv",
        "adic_zflux_adv",
        "age",
        "agessc",
        "agm",
        "aice",
        "aice_h",
        "aice_m",
        "aicen_m",
        "aiso_bih",
        "aiso_lap",
        "albice",
        "albice_m",
        "albpnd",
        "albsni",
        "albsni_m",
        "albsno",
        "albsno_m",
        "algal_N",
        "algal_N_m",
        "alidf_ai",
        "alidf_ai_m",
        "alidf_m",
        "alidr",
        "alidr_ai",
        "alidr_ai_m",
        "alvdf_ai",
        "alvdf_ai_m",
        "alvdf_m",
        "alvdr",
        "alvdr_ai",
        "alvdr_ai_m",
        "apeff",
        "apeffn",
        "apond",
        "apondn",
        "area_t",
        "area_u",
        "areacella",
        "areacello",
        "areacello_bu",
        "areacello_cu",
        "areacello_cv",
        "aredi",
        "ave_ssh",
        "basal_fwflx",
        "basal_fwflx2d",
        "bih_fric_u",
        "bih_fric_v",
        "binned_heat_transformation",
        "binned_salt_transformation",
        "blkmask",
        "bmf_u",
        "bmf_v",
        "bottom_age_global",
        "bottom_salt",
        "bottom_temp",
        "bottom_temp_max",
        "buoyfreq2_wt",
        "bv_freq",
        "caco3_xflux_adv",
        "caco3_yflux_adv",
        "caco3_zflux_adv",
        "climatology_bnds",
        "col_height",
        "congel",
        "congel_m",
        "crs",
        "d2",
        "dHdt",
        "dVdt",
        "dagedtd",
        "dagedtt",
        "daidtd",
        "daidtd_m",
        "daidtt",
        "daidtt_m",
        "dardg1dt",
        "dardg2dt",
        "dardg2dt_m",
        "depth",
        "depth_bnds",
        "deptho",
        "det_int100",
        "det_intmld",
        "det_xflux_adv",
        "det_yflux_adv",
        "det_zflux_adv",
        "dht",
        "dic_int100",
        "dic_intmld",
        "dic_xflux_adv",
        "dic_yflux_adv",
        "dic_zflux_adv",
        "diff_cbt_j09",
        "diff_cbt_s",
        "diff_cbt_t",
        "diffu",
        "diffv",
        "dissicos_raw",
        "divu",
        "divu_h",
        "divu_m",
        "drag_coeff",
        "ds",
        "ds_interface",
        "dvidtd",
        "dvidtd_m",
        "dvidtt",
        "dvidtt_m",
        "dvirdgdt",
        "dvirdgdt_m",
        "dxBu",
        "dxCu",
        "dxCv",
        "dxCvo",
        "dxT",
        "dxt",
        "dxu",
        "dyBu",
        "dyCu",
        "dyCuo",
        "dyCv",
        "dyT",
        "dyt",
        "dyu",
        "dzt",
        "ekman_we",
        "eta",
        "eta_adjust",
        "eta_global",
        "evap",
        "evap_ai_m",
        "evap_heat",
        "evs",
        "f",
        "fNO_ai",
        "fNO_ai_m",
        "fN_ai",
        "fN_ai_m",
        "fbrine",
        "fcondtop_ai",
        "fcondtop_ai_m",
        "fcondtopn_ai_m",
        "fe_int100",
        "fe_intmld",
        "fe_xflux_adv",
        "fe_yflux_adv",
        "fe_zflux_adv",
        "fgco2_raw",
        "fgco2nat_raw",
        "fgo2_raw",
        "fhocn_ai",
        "fhocn_ai_m",
        "ficeberg",
        "flat_ai_m",
        "flatn_ai_m",
        "flwdn_m",
        "flwup_ai_m",
        "fmeltt_ai_m",
        "fmelttn_ai_m",
        "fprec_melt_heat",
        "frazil",
        "frazil_2d",
        "frazil_3d",
        "frazil_3d_int_z",
        "frazil_m",
        "frazil_on_nrho",
        "fresh_ai_m",
        "fresh_m",
        "friver",
        "frz_onset_m",
        "frzmlt",
        "frzmlt_m",
        "fsalt",
        "fsalt_ai",
        "fsalt_ai_m",
        "fsalt_m",
        "fsens_ai_m",
        "fsitherm",
        "fsurf_ai",
        "fsurf_ai_m",
        "fsurfn_ai_m",
        "fswabs_ai",
        "fswabs_ai_m",
        "fswdn_m",
        "fswfac_m",
        "fswthru",
        "fswthru_ai",
        "fswthru_ai_m",
        "fswup",
        "fswup_m",
        "geolat",
        "geolatb",
        "geolon",
        "geolonb",
        "gm_eddy_ke_source",
        "grid_xu_ocean",
        "grid_yt_ocean",
        "grow_net",
        "h",
        "h2",
        "hblt_max",
        "hbrine",
        "heat_content_cond",
        "heat_content_fprec",
        "heat_content_massin",
        "heat_content_massout",
        "heat_content_surfwater",
        "height",
        "hf_dudt_2d",
        "hf_dvdt_2d",
        "hfds",
        "hfevapds",
        "hfgeou",
        "hfibthermds",
        "hflso",
        "hfrainds",
        "hfrunoffds",
        "hfsifrazil",
        "hfsnthermds",
        "hfsso",
        "hi",
        "hi_h",
        "hi_m",
        "hmo",
        "horz_bih_diss",
        "horz_lap_diss",
        "hpond",
        "hpondn",
        "hs",
        "hs_m",
        "ht",
        "hu",
        "huss",
        "iage",
        "ice_calving",
        "ice_present",
        "ice_present_m",
        "intpp_raw",
        "intz_CAu_2d",
        "intz_CAv_2d",
        "intz_PFu_2d",
        "intz_PFv_2d",
        "intz_diffu_2d",
        "intz_diffv_2d",
        "intz_gKEu_2d",
        "intz_gKEv_2d",
        "intz_rvxu_2d",
        "intz_rvxv_2d",
        "intz_u_BT_accel_2d",
        "intz_v_BT_accel_2d",
        "ipond",
        "isopycnal_bins",
        "ke_tot",
        "kg_m3_to_R",
        "kmu",
        "lat_bnds",
        "licalvf",
        "liceht",
        "lon_bnds",
        "lrunoff",
        "lw_heat",
        "m_to_H",
        "m_to_L",
        "m_to_Z",
        "mass_pmepr_on_nrho",
        "masso",
        "max_CFL_lin",
        "max_CFL_trans",
        "melt",
        "meltb",
        "meltb_m",
        "meltl",
        "meltl_m",
        "melts",
        "melts_m",
        "meltt",
        "meltt_m",
        "mh_flux",
        "mixdownslope_salt",
        "mixdownslope_temp",
        "mixdownslope_temp_on_nrho",
        "ml_Nit",
        "ml_Nit_m",
        "mld",
        "mld_max",
        "mld_min",
        "mld_sq",
        "mlotst",
        "mlt_onset_m",
        "nc",
        "net_heat_coupler",
        "net_massin",
        "net_massout",
        "net_melt",
        "net_sfc_heating",
        "neutral",
        "neutral_diffusion_on_nrho_temp",
        "neutral_diffusion_salt",
        "neutral_diffusion_temp",
        "neutral_gm_on_nrho_temp",
        "neutral_gm_salt",
        "neutral_gm_temp",
        "neutralrho_edges",
        "ni",
        "nj",
        "no3_int100",
        "no3_intmld",
        "no3_xflux_adv",
        "no3_yflux_adv",
        "no3_zflux_adv",
        "no3os_raw",
        "nonpenSW",
        "npp1",
        "npp2d",
        "npp3d",
        "npp_int100",
        "npp_intmld",
        "nv",
        "o2_int100",
        "o2_intmld",
        "o2_xflux_adv",
        "o2_yflux_adv",
        "o2_zflux_adv",
        "o2os_raw",
        "opening",
        "opening_m",
        "paco2",
        "passive_adelie_xflux_adv",
        "passive_adelie_yflux_adv",
        "passive_adelie_zflux_adv",
        "passive_prydz_xflux_adv",
        "passive_prydz_yflux_adv",
        "passive_prydz_zflux_adv",
        "passive_ross_xflux_adv",
        "passive_ross_yflux_adv",
        "passive_ross_zflux_adv",
        "passive_weddell_xflux_adv",
        "passive_weddell_yflux_adv",
        "passive_weddell_zflux_adv",
        "pbo",
        "pbot_adjust",
        "pbot_t",
        "pco2",
        "pe_tot",
        "pfmice_i",
        "phy_int100",
        "phy_intmld",
        "phyos_raw",
        "pme_net",
        "pme_river",
        "pot_rho_0",
        "pot_rho_1",
        "pot_rho_2",
        "potrho",
        "potrho_edges",
        "pprod_gross",
        "pprod_gross_2d",
        "pprod_gross_int100",
        "pprod_gross_intmld",
        "precip",
        "press",
        "prlq",
        "prra",
        "prsn",
        "psiu",
        "psiv",
        "psl",
        "pso",
        "radbio1",
        "radbio3d",
        "radbio_int100",
        "radbio_intmld",
        "rain_ai_m",
        "rho2_i",
        "rho2_l",
        "rhoave",
        "rhopot0",
        "rhopot2",
        "river",
        "rlds",
        "rlntds",
        "rsdo",
        "rsds",
        "rsntds",
        "rx_normal",
        "ry_normal",
        "s_an",
        "s_dd",
        "s_gp",
        "s_ma",
        "s_mn",
        "s_oa",
        "s_sd",
        "s_se",
        "s_to_T",
        "salt_advection",
        "salt_basalmix",
        "salt_eta_smooth",
        "salt_flux",
        "salt_flux_added",
        "salt_global_ave",
        "salt_int_rhodz",
        "salt_nonlocal_KPP",
        "salt_rhodzt",
        "salt_rivermix",
        "salt_sigma_diff",
        "salt_submeso",
        "salt_surface_ave",
        "salt_tendency",
        "salt_vdiffuse_diff_cbt",
        "salt_vdiffuse_diff_cbt_conv",
        "salt_vdiffuse_impl",
        "salt_vdiffuse_k33",
        "salt_vdiffuse_sbc",
        "salt_xflux_adv",
        "salt_yflux_adv",
        "scalar_axis",
        "sea_level",
        "sea_level_max",
        "sea_level_sq",
        "sea_levelsq",
        "sens_heat",
        "sfc",
        "sfc_hflux_coupler",
        "sfc_hflux_from_calving",
        "sfc_hflux_from_runoff",
        "sfc_hflux_from_water_evap",
        "sfc_hflux_from_water_prec",
        "sfc_hflux_pme",
        "sfc_hflux_pme_on_nrho",
        "sfc_salt_flux_coupler",
        "sfc_salt_flux_ice",
        "sfc_salt_flux_restore",
        "sfc_salt_flux_runoff",
        "sfdsi",
        "sftof",
        "shear",
        "shear_h",
        "shear_m",
        "sice_m",
        "siconc",
        "siconca",
        "sig1",
        "sig1_m",
        "sig2",
        "sig2_m",
        "sithick",
        "skl_Nit",
        "skl_Nit_m",
        "snoice",
        "snoice_m",
        "snow_ai_m",
        "so",
        "so_xyave",
        "sob",
        "soga",
        "sos",
        "sosga",
        "speed",
        "src01",
        "src03",
        "src05",
        "src06",
        "src07",
        "src09",
        "src10",
        "ssalg_i",
        "sslx_i",
        "ssly_i",
        "ssn_i",
        "sss",
        "sss_i",
        "sss_m",
        "sss_sq",
        "sst",
        "sst_i",
        "sst_m",
        "sst_sq",
        "ssu_i",
        "ssv_i",
        "st_edges_ocean",
        "st_ocean_sub01",
        "st_ocean_sub02",
        "stf03",
        "stf07",
        "stf09",
        "strairx",
        "strairx_m",
        "strairy",
        "strairy_m",
        "strcorx_m",
        "strcory_m",
        "strength_m",
        "strintx_m",
        "strinty_m",
        "strocnx_m",
        "strocny_m",
        "strtltx_m",
        "strtlty_m",
        "surface_adic",
        "surface_alk",
        "surface_caco3",
        "surface_det",
        "surface_dic",
        "surface_fe",
        "surface_no3",
        "surface_o2",
        "surface_phy",
        "surface_pot_temp",
        "surface_pot_temp_max",
        "surface_pot_temp_min",
        "surface_salt",
        "surface_temp",
        "surface_temp_max",
        "surface_temp_min",
        "surface_water_mass_transformation",
        "surface_zoo",
        "sw_edges_ocean",
        "sw_heat",
        "sw_heat_on_nrho",
        "sw_ocean",
        "swflx",
        "t_dd",
        "t_gp",
        "talkos_raw",
        "tas",
        "tau_x",
        "tau_x_max",
        "tau_x_min",
        "tau_y",
        "tauuo",
        "tauvo",
        "taux",
        "taux_bot",
        "tauy",
        "tauy_bot",
        "temp_advection",
        "temp_advection_on_nrho",
        "temp_basal",
        "temp_basalmix",
        "temp_eta_smooth",
        "temp_eta_smooth_on_nrho",
        "temp_global_ave",
        "temp_int_rhodz",
        "temp_nonlocal_KPP",
        "temp_nonlocal_KPP_on_nrho",
        "temp_numdiff_heat_on_nrho",
        "temp_rhodzt",
        "temp_rivermix",
        "temp_rivermix_on_nrho",
        "temp_sigma_diff",
        "temp_sigma_diff_on_nrho",
        "temp_submeso",
        "temp_submeso_on_nrho",
        "temp_surface_ave",
        "temp_tendency",
        "temp_tendency_expl",
        "temp_tendency_on_nrho",
        "temp_vdiffuse_diff_cbt",
        "temp_vdiffuse_diff_cbt_conv",
        "temp_vdiffuse_diff_cbt_kppbl_on_nrho",
        "temp_vdiffuse_diff_cbt_kppdd_on_nrho",
        "temp_vdiffuse_diff_cbt_kppicon_on_nrho",
        "temp_vdiffuse_diff_cbt_kppish_on_nrho",
        "temp_vdiffuse_diff_cbt_kppiw_on_nrho",
        "temp_vdiffuse_diff_cbt_on_nrho",
        "temp_vdiffuse_diff_cbt_wave_on_nrho",
        "temp_vdiffuse_impl",
        "temp_vdiffuse_k33",
        "temp_vdiffuse_k33_on_nrho",
        "temp_vdiffuse_sbc",
        "temp_vdiffuse_sbc_on_nrho",
        "temp_xflux_adv",
        "temp_xflux_adv_int_z",
        "temp_xflux_adv_on_nrho",
        "temp_xflux_gm",
        "temp_xflux_gm_int_z",
        "temp_xflux_gm_on_nrho",
        "temp_xflux_ndiffuse",
        "temp_xflux_ndiffuse_int_z",
        "temp_xflux_ndiffuse_on_nrho",
        "temp_xflux_sigma",
        "temp_xflux_submeso",
        "temp_xflux_submeso_int_z",
        "temp_xflux_submeso_on_nrho",
        "temp_yflux_adv",
        "temp_yflux_adv_int_z",
        "temp_yflux_adv_on_nrho",
        "temp_yflux_gm",
        "temp_yflux_gm_int_z",
        "temp_yflux_gm_on_nrho",
        "temp_yflux_ndiffuse",
        "temp_yflux_ndiffuse_int_z",
        "temp_yflux_ndiffuse_on_nrho",
        "temp_yflux_sigma",
        "temp_yflux_submeso",
        "temp_yflux_submeso_int_z",
        "temp_yflux_submeso_on_nrho",
        "thetao",
        "thetao_xyave",
        "thetaoga",
        "thkcello",
        "time_bnds",
        "time_bounds",
        "tmask",
        "tob",
        "tos",
        "tosmax",
        "tosmin",
        "total_aco2_flux",
        "total_co2_flux",
        "total_mass_seawater",
        "total_net_sfc_heating",
        "total_ocean_calving",
        "total_ocean_calving_heat",
        "total_ocean_calving_melt_heat",
        "total_ocean_evap",
        "total_ocean_evap_heat",
        "total_ocean_fprec",
        "total_ocean_fprec_melt_heat",
        "total_ocean_heat",
        "total_ocean_hflux_coupler",
        "total_ocean_hflux_evap",
        "total_ocean_hflux_prec",
        "total_ocean_lprec",
        "total_ocean_lw_heat",
        "total_ocean_melt",
        "total_ocean_mh_flux",
        "total_ocean_pme_river",
        "total_ocean_river",
        "total_ocean_river_heat",
        "total_ocean_runoff",
        "total_ocean_runoff_heat",
        "total_ocean_salt",
        "total_ocean_sens_heat",
        "total_ocean_sfc_salt_flux_coupler",
        "total_ocean_swflx",
        "total_ocean_swflx_vis",
        "total_volume_seawater",
        "tres_x_001",
        "tres_x_002",
        "tres_y_001",
        "tres_y_002",
        "trsig_m",
        "ts",
        "tx_trans",
        "tx_trans_gm",
        "tx_trans_int_z",
        "tx_trans_nrho",
        "tx_trans_nrho_gm",
        "tx_trans_nrho_submeso",
        "tx_trans_rho",
        "tx_trans_rho_gm",
        "tx_trans_submeso",
        "ty_trans",
        "ty_trans_gm",
        "ty_trans_int_z",
        "ty_trans_nrho",
        "ty_trans_nrho_gm",
        "ty_trans_nrho_submeso",
        "ty_trans_rho",
        "ty_trans_rho_gm",
        "ty_trans_submeso",
        "type",
        "tz_trans",
        "u",
        "u2",
        "u_dot_grad_vert_pv",
        "uas",
        "uatm",
        "uatm_m",
        "ubtav",
        "uh",
        "uhrho_et",
        "umo",
        "umo_2d",
        "uo",
        "uocn",
        "uocn_m",
        "uos",
        "usq",
        "usurf",
        "uvel_h",
        "uvel_m",
        "v",
        "v2",
        "vas",
        "vatm",
        "vatm_m",
        "vbtav",
        "vert_pv",
        "vh",
        "vhrho_nt",
        "vicen_m",
        "vmo",
        "vmo_2d",
        "vo",
        "vocn",
        "vocn_m",
        "volcello",
        "volo",
        "vorticity_z",
        "vos",
        "vsq",
        "vsurf",
        "vvel_h",
        "vvel_m",
        "wdet100",
        "wet",
        "wet_c",
        "wet_u",
        "wet_v",
        "wfiform",
        "wfimelt",
        "wfo",
        "wt",
        "z_i",
        "z_l",
        "z_l_sub01",
        "zi",
        "zl",
        "zos",
        "zosmax",
        "zosmin",
        "zossq"
       ],
       "index": 0,
       "layout": "IPY_MODEL_7ff597bb44e9430cb75ca61acaae1dc0",
       "rows": 10,
       "style": "IPY_MODEL_245c1d045a14458bbf8d04e2148982ef"
      }
     },
     "94978d3d213049b38cabb31b06bc5fd7": {
      "model_module": "@jupyter-widgets/controls",
      "model_module_version": "2.0.0",
      "model_name": "HTMLModel",
      "state": {
       "layout": "IPY_MODEL_f1999ea17ecf4b048ebf3f7dcfc3dc12",
       "style": "IPY_MODEL_d17c06e3ae3e4b2bb23cceb09f8a5779"
      }
     },
     "96d53f32a64f48aeb1934efa879fae21": {
      "model_module": "@jupyter-widgets/controls",
      "model_module_version": "2.0.0",
      "model_name": "ButtonModel",
      "state": {
       "icon": "angle-double-right",
       "layout": "IPY_MODEL_c9c270d6be2e448c8c2f7bf9e7a63573",
       "style": "IPY_MODEL_5c532acb63dc4f749bb859e1215e3a89",
       "tooltip": "Add selected variable to filter"
      }
     },
     "97aeb54361714ed0a54ec6eb4ea9eb83": {
      "model_module": "@jupyter-widgets/controls",
      "model_module_version": "2.0.0",
      "model_name": "ButtonModel",
      "state": {
       "description": "Filter",
       "layout": "IPY_MODEL_4e9d7de6b0ce4a2fab241af5641ac5f9",
       "style": "IPY_MODEL_e0adbeeacacd42c4961fe3b760ab1ad4",
       "tooltip": "Click to filter experiments"
      }
     },
     "98b77b73713c4c598cf9c4795363455a": {
      "model_module": "@jupyter-widgets/controls",
      "model_module_version": "2.0.0",
      "model_name": "DescriptionStyleModel",
      "state": {
       "description_width": "initial"
      }
     },
     "991bf52e9cc54327abd7519bff5a614e": {
      "model_module": "@jupyter-widgets/controls",
      "model_module_version": "2.0.0",
      "model_name": "HTMLModel",
      "state": {
       "layout": "IPY_MODEL_fc5c611138654de183d2cbf3698ecd1e",
       "style": "IPY_MODEL_3f95c41e3ebb424183c8fb99e3064574",
       "value": "<style>.header p{ line-height: 1.4; margin-bottom: 10px }</style>\n            <h3>Database Explorer</h3>\n\n            <div class=\"header\">\n\n            <p>Select an experiment to show more detailed information where available.\n            With an experiment selected push 'Load Experiment' to open an Experiment\n            Explorer gui.</p>\n\n            <p>The list of experiments can be filtered by keywords and/or variables.\n            Multiple keywords can be selected using alt/option/ctrl (system dependent)\n            or the shift modifier when selecting. To filter by variables select a\n            variable and add it to the \"Filter variables\" box using the \">>\" button,\n            and vice-versa to remove variables from the filter. Push the 'Filter'\n            button to show only matching experiments.</p>\n\n            <p>When the ExperimentExplorer element loads data it is accessible as the\n            <tt>.data</tt> attribute of the DatabaseExplorer object</p>\n\n            </div>\n            "
      }
     },
     "99455dd84ada4ece94a2f7667bc9a0c0": {
      "model_module": "@jupyter-widgets/controls",
      "model_module_version": "2.0.0",
      "model_name": "HTMLModel",
      "state": {
       "layout": "IPY_MODEL_2d6b69e438e0413ab3bd31f8cf5c1f8e",
       "style": "IPY_MODEL_8a1322f8f30e4ed79bcb2271088ebe66",
       "value": "Filter variables:"
      }
     },
     "9d180ea8b511471f81ac6721b816c2fa": {
      "model_module": "@jupyter-widgets/base",
      "model_module_version": "2.0.0",
      "model_name": "LayoutModel",
      "state": {}
     },
     "9f695ee5cb9349daa9ec7637994a895d": {
      "model_module": "@jupyter-widgets/controls",
      "model_module_version": "2.0.0",
      "model_name": "TextModel",
      "state": {
       "layout": "IPY_MODEL_885d97b1a40440879a36577e37817a8d",
       "placeholder": "Search: start typing",
       "style": "IPY_MODEL_4c5e82d4d4c147d6b3296f6ccd573cc4"
      }
     },
     "a11d173ab5084ae0bd12e1dcfc6b66c0": {
      "model_module": "@jupyter-widgets/base",
      "model_module_version": "2.0.0",
      "model_name": "LayoutModel",
      "state": {
       "flex": "0 0 100%"
      }
     },
     "a444584b620d4cb28dbd01026d034282": {
      "model_module": "@jupyter-widgets/controls",
      "model_module_version": "2.0.0",
      "model_name": "HBoxModel",
      "state": {
       "children": [
        "IPY_MODEL_3428586d0b31492fadcc4fb7dd77906c",
        "IPY_MODEL_bc594d5a3b1542a6b17535dcf6cf46d4"
       ],
       "layout": "IPY_MODEL_e363a9c369be4e1cab0453941b2a1fd2"
      }
     },
     "a5188134ec4e446dbea99993b7f1b6f7": {
      "model_module": "@jupyter-widgets/controls",
      "model_module_version": "2.0.0",
      "model_name": "LabelStyleModel",
      "state": {
       "description_width": "",
       "font_family": null,
       "font_size": null,
       "font_style": null,
       "font_variant": null,
       "font_weight": null,
       "text_color": null,
       "text_decoration": null
      }
     },
     "a5dc55bbcc9d47cf9327c5e8f1fb17ba": {
      "model_module": "@jupyter-widgets/controls",
      "model_module_version": "2.0.0",
      "model_name": "VBoxModel",
      "state": {
       "children": [
        "IPY_MODEL_5e7f547045374835807a8dfe6562fd34",
        "IPY_MODEL_9f695ee5cb9349daa9ec7637994a895d",
        "IPY_MODEL_ea6e06119a99428e9339fb91052289fa",
        "IPY_MODEL_ef4b69da930940188e28a566498dbcd7",
        "IPY_MODEL_fb5564e438774090a14563b5ed96250e",
        "IPY_MODEL_5644818b1c924b3e959a7e8d422087f7"
       ],
       "layout": "IPY_MODEL_9d180ea8b511471f81ac6721b816c2fa"
      }
     },
     "a7992d11c554407a99f718f9496ca5e2": {
      "model_module": "@jupyter-widgets/base",
      "model_module_version": "2.0.0",
      "model_name": "LayoutModel",
      "state": {}
     },
     "ab10ebd1e83245ef91edd93f1ace82ef": {
      "model_module": "@jupyter-widgets/controls",
      "model_module_version": "2.0.0",
      "model_name": "VBoxModel",
      "state": {
       "children": [
        "IPY_MODEL_342a053d0ee947b58d8518d5cf4902be",
        "IPY_MODEL_516508d0e12047f89c44e9eef64a733c",
        "IPY_MODEL_90111738a5314d6389d5999803e1ff75",
        "IPY_MODEL_beeb4ee08ec74d3cb9a4520cfd985564",
        "IPY_MODEL_e73f5ccb8d534d28a695aec686657b86",
        "IPY_MODEL_0ca60c0d5bd0448db4dd9176656030a2"
       ],
       "layout": "IPY_MODEL_56437e033076416fb6234118ac04285f"
      }
     },
     "accdcc651f9943e6b93308c247035cec": {
      "model_module": "@jupyter-widgets/controls",
      "model_module_version": "2.0.0",
      "model_name": "SelectModel",
      "state": {
       "_options_labels": [
        "01deg_jra55_iaf_cycle3_melt",
        "01deg_jra55_SAMextr_0203_from9091",
        "01deg_jra55_SAMextr_1011_from9091",
        "01deg_jra55_SAMextr_9192_from9091",
        "01deg_jra55_SAMextr_9899_from9091",
        "01deg_jra55v13_iaf",
        "01deg_jra55v13_iaf_4hourly",
        "01deg_jra55v13_ryf9091",
        "01deg_jra55v13_ryf9091_21mbath",
        "01deg_jra55v13_ryf9091_21mbath_5mdz",
        "01deg_jra55v13_ryf9091_21mbath_CM2atm",
        "01deg_jra55v13_ryf9091_5Kv",
        "01deg_jra55v13_ryf9091_easterlies_down10",
        "01deg_jra55v13_ryf9091_easterlies_up10",
        "01deg_jra55v13_ryf9091_easterlies_up10_meridional",
        "01deg_jra55v13_ryf9091_easterlies_up10_noDSW",
        "01deg_jra55v13_ryf9091_easterlies_up10_zonal",
        "01deg_jra55v13_ryf9091_k_smag_iso3",
        "01deg_jra55v13_ryf9091_OFAM3visc",
        "01deg_jra55v13_ryf9091_qian_ctrl",
        "01deg_jra55v13_ryf9091_qian_wthmp",
        "01deg_jra55v13_ryf9091_qian_wthp",
        "01deg_jra55v13_ryf9091_qian_wtlp",
        "01deg_jra55v13_ryf9091_rerun_for_easterlies",
        "01deg_jra55v13_ryf9091_weddell_down1",
        "01deg_jra55v13_ryf9091_weddell_down2",
        "01deg_jra55v13_ryf9091_weddell_up1",
        "01deg_jra55v140_iaf",
        "01deg_jra55v140_iaf_cycle2",
        "01deg_jra55v140_iaf_cycle3",
        "01deg_jra55v140_iaf_cycle3_antarctic_tracers",
        "01deg_jra55v140_iaf_cycle3_HF",
        "01deg_jra55v140_iaf_cycle4",
        "01deg_jra55v140_iaf_cycle4_jra55v150_extension",
        "01deg_jra55v140_iaf_cycle4_rerun_from_1980",
        "01deg_jra55v140_iaf_cycle4_rerun_from_1983",
        "01deg_jra55v140_iaf_cycle4_rerun_from_1986",
        "01deg_jra55v140_iaf_KvJ09",
        "01deg_jra55v150_iaf_cycle1",
        "01deg_jra55v150_iaf_cycle1_old",
        "025deg_era5_iaf",
        "025deg_era5_ryf",
        "025deg_jra55_iaf_era5comparison",
        "025deg_jra55_iaf_omip2_cycle1",
        "025deg_jra55_iaf_omip2_cycle2",
        "025deg_jra55_iaf_omip2_cycle3",
        "025deg_jra55_iaf_omip2_cycle4",
        "025deg_jra55_iaf_omip2_cycle5",
        "025deg_jra55_iaf_omip2_cycle6",
        "025deg_jra55_iaf_omip2_cycle6_14to17",
        "025deg_jra55_iaf_omip2_cycle6_78to08",
        "025deg_jra55_iaf_omip2_cycle6_ext",
        "025deg_jra55_iaf_omip_straits_topo2_cycle1",
        "025deg_jra55_iaf_omip_straits_topo3_cycle1",
        "025deg_jra55_iaf_omip_straits_topo4_cycle1",
        "025deg_jra55_iaf_omip_straits_topo5_cycle1",
        "025deg_jra55_iaf_omip_straits_topo_cycle1",
        "025deg_jra55_ryf9091_bgc",
        "025deg_jra55_ryf9091_gadi",
        "025deg_jra55_ryf9091_gadi_noGM",
        "025deg_jra55_ryf9091_gadi_norediGM",
        "025deg_jra55_ryf9091_GMhi",
        "025deg_jra55_ryf_era5comparison",
        "025deg_jra55v13_iaf_gmredi6",
        "025deg_jra55v13_ryf8485_RCP45",
        "025deg_jra55v13_ryf8485_spinup",
        "025deg_jra55v13_ryf9091_gmredi6",
        "025deg_jra55v13_SAMx_0203_from_ryf9091_yr160_gmredi6",
        "025deg_jra55v13_SAMx_1011_from_ryf9091_yr160_gmredi6",
        "025deg_jra55v13_SAMx_9192_from_ryf9091_yr160_gmredi6",
        "025deg_jra55v13_SAMx_9899_from_ryf9091_yr160_gmredi6",
        "1deg_era5_iaf",
        "1deg_era5_ryf",
        "1deg_iamip2_CMCC-ESM2ssp126",
        "1deg_iamip2_CMCC-ESM2ssp585",
        "1deg_iamip2_con",
        "1deg_iamip2_EC-Earth3ssp126",
        "1deg_iamip2_EC-Earth3ssp585",
        "1deg_iamip2_exc",
        "1deg_iamip2_his",
        "1deg_jra55_iaf_era5comparison",
        "1deg_jra55_iaf_omip2_cycle1",
        "1deg_jra55_iaf_omip2_cycle2",
        "1deg_jra55_iaf_omip2_cycle3",
        "1deg_jra55_iaf_omip2_cycle4",
        "1deg_jra55_iaf_omip2_cycle5",
        "1deg_jra55_iaf_omip2_cycle6",
        "1deg_jra55_iaf_omip2_cycle6_bgcinit",
        "1deg_jra55_iaf_omip2dEdd_cycle1",
        "1deg_jra55_iaf_omip2fe03_cycle1",
        "1deg_jra55_iaf_omip2femip_cycle1",
        "1deg_jra55_iaf_omip2spunup_cycle1",
        "1deg_jra55_iaf_omip2spunup_cycle10",
        "1deg_jra55_iaf_omip2spunup_cycle11",
        "1deg_jra55_iaf_omip2spunup_cycle12",
        "1deg_jra55_iaf_omip2spunup_cycle13",
        "1deg_jra55_iaf_omip2spunup_cycle14",
        "1deg_jra55_iaf_omip2spunup_cycle15",
        "1deg_jra55_iaf_omip2spunup_cycle16",
        "1deg_jra55_iaf_omip2spunup_cycle17",
        "1deg_jra55_iaf_omip2spunup_cycle18",
        "1deg_jra55_iaf_omip2spunup_cycle19",
        "1deg_jra55_iaf_omip2spunup_cycle2",
        "1deg_jra55_iaf_omip2spunup_cycle20",
        "1deg_jra55_iaf_omip2spunup_cycle21",
        "1deg_jra55_iaf_omip2spunup_cycle22",
        "1deg_jra55_iaf_omip2spunup_cycle23",
        "1deg_jra55_iaf_omip2spunup_cycle24",
        "1deg_jra55_iaf_omip2spunup_cycle25",
        "1deg_jra55_iaf_omip2spunup_cycle26",
        "1deg_jra55_iaf_omip2spunup_cycle27",
        "1deg_jra55_iaf_omip2spunup_cycle28",
        "1deg_jra55_iaf_omip2spunup_cycle29",
        "1deg_jra55_iaf_omip2spunup_cycle3",
        "1deg_jra55_iaf_omip2spunup_cycle30",
        "1deg_jra55_iaf_omip2spunup_cycle31",
        "1deg_jra55_iaf_omip2spunup_cycle32",
        "1deg_jra55_iaf_omip2spunup_cycle33",
        "1deg_jra55_iaf_omip2spunup_cycle34",
        "1deg_jra55_iaf_omip2spunup_cycle35",
        "1deg_jra55_iaf_omip2spunup_cycle36",
        "1deg_jra55_iaf_omip2spunup_cycle37",
        "1deg_jra55_iaf_omip2spunup_cycle38",
        "1deg_jra55_iaf_omip2spunup_cycle39",
        "1deg_jra55_iaf_omip2spunup_cycle4",
        "1deg_jra55_iaf_omip2spunup_cycle40",
        "1deg_jra55_iaf_omip2spunup_cycle41",
        "1deg_jra55_iaf_omip2spunup_cycle42",
        "1deg_jra55_iaf_omip2spunup_cycle43",
        "1deg_jra55_iaf_omip2spunup_cycle44",
        "1deg_jra55_iaf_omip2spunup_cycle45",
        "1deg_jra55_iaf_omip2spunup_cycle46",
        "1deg_jra55_iaf_omip2spunup_cycle47",
        "1deg_jra55_iaf_omip2spunup_cycle48",
        "1deg_jra55_iaf_omip2spunup_cycle49",
        "1deg_jra55_iaf_omip2spunup_cycle5",
        "1deg_jra55_iaf_omip2spunup_cycle50",
        "1deg_jra55_iaf_omip2spunup_cycle6",
        "1deg_jra55_iaf_omip2spunup_cycle7",
        "1deg_jra55_iaf_omip2spunup_cycle8",
        "1deg_jra55_iaf_omip2spunup_cycle9",
        "1deg_jra55_iaf_v2.0.0rc3",
        "1deg_jra55_iaf_v2.0.0rc3_nonuniform_albedo",
        "1deg_jra55_ryf9091_gadi",
        "1deg_jra55_ryf9091_kds50_bkd",
        "1deg_jra55_ryf_iamip2_con",
        "1deg_jra55_ryf_iamip2_sens_conflux",
        "1deg_jra55_ryf_iamip2_sens_control",
        "1deg_jra55_ryf_iamip2_sens_dedd",
        "1deg_jra55_ryf_iamip2_sens_ktherm",
        "1deg_jra55_ryf_iamip2_sens_mp",
        "1deg_jra55_ryf_iamip2_sens_wish",
        "1deg_jra55_SAMextr_ryf0203_from9091_kds50",
        "1deg_jra55_SAMextr_ryf1011_from9091_kds50",
        "1deg_jra55_SAMextr_ryf9192_from9091_kds50",
        "1deg_jra55_SAMextr_ryf9899_from9091_kds50",
        "1deg_jra55v131_ryf_const_albedo",
        "1deg_jra55v131_ryf_nonuniform_albedo",
        "1deg_jra55v13_iaf_spinup1_B1",
        "1deg_jra55v13_ryf0304_RCP45",
        "1deg_jra55v13_ryf0304_spinup",
        "1deg_jra55v13_ryf8485_RCP45",
        "1deg_jra55v13_ryf8485_spinup",
        "1deg_jra55v13_ryf9091_RCP45",
        "1deg_jra55v13_ryf9091_spinup",
        "1deg_jra55v14_ryf",
        "basal_melt_outputs",
        "eac-zstar-v1",
        "eac-zstar-v2",
        "global-01-v1",
        "global-01-v2",
        "global-01-v3",
        "JRA55-RYF-1-4",
        "jra55v13_iaf",
        "jra55v13_ryf8485",
        "jra55v13_ryf8485_freshRCP45",
        "jra55v13_ryf8485_freshRCP85",
        "MRI-JRA55-do-1-4-0",
        "OM4_025.JRA_RYF",
        "panan-01-zstar-om4BC",
        "panant-0025-zstar-ACCESSyr2",
        "panant-005-zstar-ACCESSyr2",
        "panant-01-hycom1",
        "panant-01-hycom1-v13",
        "panant-01-zstar",
        "panant-01-zstar-ACCESSyr2",
        "panant-01-zstar-ACCESSyr2_first_run",
        "panant-01-zstar-OM4",
        "panant-01-zstar-v13",
        "panant-hycom1",
        "panant-v2",
        "woa18"
       ],
       "index": 0,
       "layout": "IPY_MODEL_46b4a1ea4d334b55b7b9d17f67b65b1b",
       "rows": 24,
       "style": "IPY_MODEL_bafdac5ee5dd4cf0857568c9013f15b6"
      }
     },
     "b450e564007c4e7483987ef84be329b7": {
      "model_module": "@jupyter-widgets/base",
      "model_module_version": "2.0.0",
      "model_name": "LayoutModel",
      "state": {
       "padding": "0px 5px",
       "width": "initial"
      }
     },
     "b79e5daeb7cf4dd0ac94d41a39e3912b": {
      "model_module": "@jupyter-widgets/controls",
      "model_module_version": "2.0.0",
      "model_name": "TabModel",
      "state": {
       "children": [
        "IPY_MODEL_68cb3c8d84ea42d59bb246d1c4633f74",
        "IPY_MODEL_78429ab3224649a189a6514c2b31de39"
       ],
       "layout": "IPY_MODEL_5f2818a3084f4bc5954ddde3d9d3f275",
       "selected_index": 0,
       "titles": [
        "Keyword",
        "Variable"
       ]
      }
     },
     "b7c08033b99f4cb49ba777993ee83a7f": {
      "model_module": "@jupyter-widgets/base",
      "model_module_version": "2.0.0",
      "model_name": "LayoutModel",
      "state": {}
     },
     "b7f35264690e4e6e9b459458cf687fc8": {
      "model_module": "@jupyter-widgets/controls",
      "model_module_version": "2.0.0",
      "model_name": "VBoxModel",
      "state": {
       "children": [
        "IPY_MODEL_a5dc55bbcc9d47cf9327c5e8f1fb17ba"
       ],
       "layout": "IPY_MODEL_4652150a64f04c1883120deb0d96a87d"
      }
     },
     "b89f0697249146618197cf403a364522": {
      "model_module": "@jupyter-widgets/base",
      "model_module_version": "2.0.0",
      "model_name": "LayoutModel",
      "state": {
       "width": "40%"
      }
     },
     "bafdac5ee5dd4cf0857568c9013f15b6": {
      "model_module": "@jupyter-widgets/controls",
      "model_module_version": "2.0.0",
      "model_name": "DescriptionStyleModel",
      "state": {
       "description_width": ""
      }
     },
     "bba997382fac48bcafcab6bd1fe62a01": {
      "model_module": "@jupyter-widgets/controls",
      "model_module_version": "2.0.0",
      "model_name": "HTMLStyleModel",
      "state": {
       "description_width": "",
       "font_size": null,
       "text_color": null
      }
     },
     "bc594d5a3b1542a6b17535dcf6cf46d4": {
      "model_module": "@jupyter-widgets/controls",
      "model_module_version": "2.0.0",
      "model_name": "VBoxModel",
      "state": {
       "children": [
        "IPY_MODEL_f9fac62653664f8294570736714e299a",
        "IPY_MODEL_b79e5daeb7cf4dd0ac94d41a39e3912b",
        "IPY_MODEL_97aeb54361714ed0a54ec6eb4ea9eb83"
       ],
       "layout": "IPY_MODEL_2848fee20b044e0d91960b2fe59b6f44"
      }
     },
     "beeb4ee08ec74d3cb9a4520cfd985564": {
      "model_module": "@jupyter-widgets/controls",
      "model_module_version": "2.0.0",
      "model_name": "HTMLModel",
      "state": {
       "layout": "IPY_MODEL_7ff597bb44e9430cb75ca61acaae1dc0",
       "style": "IPY_MODEL_7b2258f3de784064b47af62bb6f87b42",
       "value": "<style>.breakword { word-wrap: break-word; font-size: 90%; line-height: 1.1;}</style><p class=\"breakword\">&nbsp;</p>"
      }
     },
     "bf28f676aa774ca1aad0d70f0a8c749d": {
      "model_module": "@jupyter-widgets/base",
      "model_module_version": "2.0.0",
      "model_name": "LayoutModel",
      "state": {}
     },
     "c174b0b34a574e3fb79b5ab12a588298": {
      "model_module": "@jupyter-widgets/controls",
      "model_module_version": "2.0.0",
      "model_name": "CheckboxStyleModel",
      "state": {
       "description_width": ""
      }
     },
     "c34e96a4a0c645c0ac3d515eba495ce6": {
      "model_module": "@jupyter-widgets/base",
      "model_module_version": "2.0.0",
      "model_name": "LayoutModel",
      "state": {
       "padding": "10% 0",
       "width": "80%"
      }
     },
     "c4dcaf766de94fff862903bff4ba5213": {
      "model_module": "@jupyter-widgets/base",
      "model_module_version": "2.0.0",
      "model_name": "LayoutModel",
      "state": {
       "width": "40%"
      }
     },
     "c56d2b5a6a2f4b258d51e995f8c13442": {
      "model_module": "@jupyter-widgets/base",
      "model_module_version": "2.0.0",
      "model_name": "LayoutModel",
      "state": {
       "width": "50%"
      }
     },
     "c5740970d06d462ca61fa969f84409a6": {
      "model_module": "@jupyter-widgets/controls",
      "model_module_version": "2.0.0",
      "model_name": "ButtonStyleModel",
      "state": {
       "font_family": null,
       "font_size": null,
       "font_style": null,
       "font_variant": null,
       "font_weight": null,
       "text_color": null,
       "text_decoration": null
      }
     },
     "c71166afdfc54af6a6a0a4e0403305e5": {
      "model_module": "@jupyter-widgets/base",
      "model_module_version": "2.0.0",
      "model_name": "LayoutModel",
      "state": {}
     },
     "c9c270d6be2e448c8c2f7bf9e7a63573": {
      "model_module": "@jupyter-widgets/base",
      "model_module_version": "2.0.0",
      "model_name": "LayoutModel",
      "state": {
       "width": "auto"
      }
     },
     "c9f9d9a32b7d45dc90479d02c7409c0a": {
      "model_module": "@jupyter-widgets/controls",
      "model_module_version": "2.0.0",
      "model_name": "SliderStyleModel",
      "state": {
       "description_width": ""
      }
     },
     "cb4aab9046fb4b81901802dabd732288": {
      "model_module": "@jupyter-widgets/controls",
      "model_module_version": "2.0.0",
      "model_name": "LabelStyleModel",
      "state": {
       "description_width": "",
       "font_family": null,
       "font_size": null,
       "font_style": null,
       "font_variant": null,
       "font_weight": null,
       "text_color": null,
       "text_decoration": null
      }
     },
     "cd3a6cda1fd64b07bb19ec43d7c90493": {
      "model_module": "@jupyter-widgets/controls",
      "model_module_version": "2.0.0",
      "model_name": "VBoxModel",
      "state": {
       "children": [
        "IPY_MODEL_991bf52e9cc54327abd7519bff5a614e",
        "IPY_MODEL_a444584b620d4cb28dbd01026d034282",
        "IPY_MODEL_79af1d95dcd3455d8e7225d8c2f0e2ea",
        "IPY_MODEL_f25982761151455da8e7b978035d162f"
       ],
       "layout": "IPY_MODEL_1ac81014683f4eb591241f8b70ce1e0e"
      }
     },
     "d1759f279ee548d388c9505a068f337f": {
      "model_module": "@jupyter-widgets/controls",
      "model_module_version": "2.0.0",
      "model_name": "SelectModel",
      "state": {
       "index": null,
       "layout": "IPY_MODEL_259f5539ca914979b73d16b4e3be5f0e",
       "rows": 10,
       "style": "IPY_MODEL_6ecfea3274b04dfaa4de2b34825d3054"
      }
     },
     "d17c06e3ae3e4b2bb23cceb09f8a5779": {
      "model_module": "@jupyter-widgets/controls",
      "model_module_version": "2.0.0",
      "model_name": "HTMLStyleModel",
      "state": {
       "description_width": "",
       "font_size": null,
       "text_color": null
      }
     },
     "d355771ce3254b8e9dd51cc7d8921859": {
      "model_module": "@jupyter-widgets/base",
      "model_module_version": "2.0.0",
      "model_name": "LayoutModel",
      "state": {
       "width": "80%"
      }
     },
     "d39c430720514ee2a66165291a40196d": {
      "model_module": "@jupyter-widgets/base",
      "model_module_version": "2.0.0",
      "model_name": "LayoutModel",
      "state": {
       "width": "auto"
      }
     },
     "d3d0207e4dc846b7a620a615b422cd35": {
      "model_module": "@jupyter-widgets/base",
      "model_module_version": "2.0.0",
      "model_name": "LayoutModel",
      "state": {
       "width": "20%"
      }
     },
     "d594ff1b0f0e436a8c6c28ca025cb2bd": {
      "model_module": "@jupyter-widgets/base",
      "model_module_version": "2.0.0",
      "model_name": "LayoutModel",
      "state": {
       "padding": "0px 5px",
       "width": "initial"
      }
     },
     "d634396c059c485dae13862b2eaec6f9": {
      "model_module": "@jupyter-widgets/controls",
      "model_module_version": "2.0.0",
      "model_name": "DescriptionStyleModel",
      "state": {
       "description_width": ""
      }
     },
     "da972479e2444a24a26a36c34146b249": {
      "model_module": "@jupyter-widgets/controls",
      "model_module_version": "2.0.0",
      "model_name": "VBoxModel",
      "state": {
       "children": [
        "IPY_MODEL_888c5f0b736d4bb2978c4eed04bd3187",
        "IPY_MODEL_42df454a6e324994bfba15e77b87dba5",
        "IPY_MODEL_08e8a1f950914823884e2ded43d1c2ea",
        "IPY_MODEL_169517167c004e2aa1c1794c02206ada",
        "IPY_MODEL_94978d3d213049b38cabb31b06bc5fd7"
       ],
       "layout": "IPY_MODEL_b7c08033b99f4cb49ba777993ee83a7f"
      }
     },
     "ddc6caf0b6e34eb1acafddc93f157ada": {
      "model_module": "@jupyter-widgets/controls",
      "model_module_version": "2.0.0",
      "model_name": "DropdownModel",
      "state": {
       "description": "Frequency",
       "disabled": true,
       "index": null,
       "layout": "IPY_MODEL_048300da96204226af1970e34b75a1a2",
       "style": "IPY_MODEL_6e2a9784f2524ef287fbd4959065bb66"
      }
     },
     "de148d37229e4cb59b14f58e578cafdd": {
      "model_module": "@jupyter-widgets/controls",
      "model_module_version": "2.0.0",
      "model_name": "CheckboxStyleModel",
      "state": {
       "description_width": ""
      }
     },
     "e0adbeeacacd42c4961fe3b760ab1ad4": {
      "model_module": "@jupyter-widgets/controls",
      "model_module_version": "2.0.0",
      "model_name": "ButtonStyleModel",
      "state": {
       "font_family": null,
       "font_size": null,
       "font_style": null,
       "font_variant": null,
       "font_weight": null,
       "text_color": null,
       "text_decoration": null
      }
     },
     "e363a9c369be4e1cab0453941b2a1fd2": {
      "model_module": "@jupyter-widgets/base",
      "model_module_version": "2.0.0",
      "model_name": "LayoutModel",
      "state": {}
     },
     "e73f5ccb8d534d28a695aec686657b86": {
      "model_module": "@jupyter-widgets/controls",
      "model_module_version": "2.0.0",
      "model_name": "CheckboxModel",
      "state": {
       "description": "Hide coordinates",
       "disabled": false,
       "indent": false,
       "layout": "IPY_MODEL_c71166afdfc54af6a6a0a4e0403305e5",
       "style": "IPY_MODEL_c174b0b34a574e3fb79b5ab12a588298",
       "value": true
      }
     },
     "e99900c3cc2141b8a9895863c6487fd8": {
      "model_module": "@jupyter-widgets/controls",
      "model_module_version": "2.0.0",
      "model_name": "DescriptionStyleModel",
      "state": {
       "description_width": ""
      }
     },
     "ea6e06119a99428e9339fb91052289fa": {
      "model_module": "@jupyter-widgets/controls",
      "model_module_version": "2.0.0",
      "model_name": "SelectModel",
      "state": {
       "index": null,
       "layout": "IPY_MODEL_885d97b1a40440879a36577e37817a8d",
       "rows": 20,
       "style": "IPY_MODEL_d634396c059c485dae13862b2eaec6f9"
      }
     },
     "ef4b69da930940188e28a566498dbcd7": {
      "model_module": "@jupyter-widgets/controls",
      "model_module_version": "2.0.0",
      "model_name": "HTMLModel",
      "state": {
       "layout": "IPY_MODEL_885d97b1a40440879a36577e37817a8d",
       "style": "IPY_MODEL_fbc36013409442fba936d162c1b9bd63",
       "value": "<style>.breakword { word-wrap: break-word; font-size: 90%; line-height: 1.1;}</style><p class=\"breakword\">&nbsp;</p>"
      }
     },
     "f0509693f6984778a9fbb1542ceb4333": {
      "model_module": "@jupyter-widgets/controls",
      "model_module_version": "2.0.0",
      "model_name": "ButtonStyleModel",
      "state": {
       "font_family": null,
       "font_size": null,
       "font_style": null,
       "font_variant": null,
       "font_weight": null,
       "text_color": null,
       "text_decoration": null
      }
     },
     "f1999ea17ecf4b048ebf3f7dcfc3dc12": {
      "model_module": "@jupyter-widgets/base",
      "model_module_version": "2.0.0",
      "model_name": "LayoutModel",
      "state": {}
     },
     "f25982761151455da8e7b978035d162f": {
      "model_module": "@jupyter-widgets/controls",
      "model_module_version": "2.0.0",
      "model_name": "HBoxModel",
      "state": {
       "layout": "IPY_MODEL_16e039090a964e1281e1b94f0c4bf662"
      }
     },
     "f55eb82c8d39434b90929c0bc985ed6d": {
      "model_module": "@jupyter-widgets/controls",
      "model_module_version": "2.0.0",
      "model_name": "DescriptionStyleModel",
      "state": {
       "description_width": ""
      }
     },
     "f9d4062ef989423099b9c34fcd3270bb": {
      "model_module": "@jupyter-widgets/controls",
      "model_module_version": "2.0.0",
      "model_name": "TextStyleModel",
      "state": {
       "description_width": "",
       "font_size": null,
       "text_color": null
      }
     },
     "f9fac62653664f8294570736714e299a": {
      "model_module": "@jupyter-widgets/controls",
      "model_module_version": "2.0.0",
      "model_name": "LabelModel",
      "state": {
       "layout": "IPY_MODEL_1ddfc451d0764d339421840856a3c769",
       "style": "IPY_MODEL_a5188134ec4e446dbea99993b7f1b6f7",
       "value": "Filter by:"
      }
     },
     "fb5564e438774090a14563b5ed96250e": {
      "model_module": "@jupyter-widgets/controls",
      "model_module_version": "2.0.0",
      "model_name": "CheckboxModel",
      "state": {
       "description": "Hide coordinates",
       "disabled": false,
       "indent": false,
       "layout": "IPY_MODEL_a7992d11c554407a99f718f9496ca5e2",
       "style": "IPY_MODEL_1f7a6b581a304aad804a59defd08fe81",
       "value": true
      }
     },
     "fbc36013409442fba936d162c1b9bd63": {
      "model_module": "@jupyter-widgets/controls",
      "model_module_version": "2.0.0",
      "model_name": "HTMLStyleModel",
      "state": {
       "description_width": "",
       "font_size": null,
       "text_color": null
      }
     },
     "fc5c611138654de183d2cbf3698ecd1e": {
      "model_module": "@jupyter-widgets/base",
      "model_module_version": "2.0.0",
      "model_name": "LayoutModel",
      "state": {
       "width": "60%"
      }
     },
     "fe4abd34eb6b448aa69729bee6f3dcf0": {
      "model_module": "@jupyter-widgets/controls",
      "model_module_version": "2.0.0",
      "model_name": "LabelModel",
      "state": {
       "layout": "IPY_MODEL_bf28f676aa774ca1aad0d70f0a8c749d",
       "style": "IPY_MODEL_cb4aab9046fb4b81901802dabd732288",
       "value": "Experiments:"
      }
     },
     "fe76d0af88ca4b93ace5db26d364a59f": {
      "model_module": "@jupyter-widgets/controls",
      "model_module_version": "2.0.0",
      "model_name": "SelectionRangeSliderModel",
      "state": {
       "_model_name": "SelectionRangeSliderModel",
       "_options_labels": [
        "0000",
        "0000"
       ],
       "_view_name": "SelectionRangeSliderView",
       "behavior": "drag-tap",
       "description": "Date range",
       "disabled": true,
       "index": [
        0,
        0
       ],
       "layout": "IPY_MODEL_c4dcaf766de94fff862903bff4ba5213",
       "style": "IPY_MODEL_c9f9d9a32b7d45dc90479d02c7409c0a"
      }
     }
    },
    "version_major": 2,
    "version_minor": 0
   }
  }
 },
 "nbformat": 4,
 "nbformat_minor": 4
}
