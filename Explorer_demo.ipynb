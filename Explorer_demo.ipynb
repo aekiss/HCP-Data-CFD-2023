{
 "cells": [
  {
   "cell_type": "markdown",
   "id": "53f5d32d-f32e-4adc-8e39-ba103e707359",
   "metadata": {},
   "source": [
    "# COSIMA Cookbook Database Explorer demo\n",
    "The Database Explorer helps you search a COSIMA Cookbook database to discover the experiments and variable names for the data you need.\n",
    "More detail here: https://cosima-recipes.readthedocs.io/en/latest/Tutorials/Using_Explorer_tools.html"
   ]
  },
  {
   "cell_type": "code",
   "execution_count": 2,
   "id": "64fbbe64-624a-4450-bf35-d69728444231",
   "metadata": {},
   "outputs": [
    {
     "data": {
      "application/vnd.jupyter.widget-view+json": {
       "model_id": "6f921bafac544c9e89e00104c9c1ba90",
       "version_major": 2,
       "version_minor": 0
      },
      "text/plain": [
       "DatabaseExplorer(children=(HTML(value='<style>.header p{ line-height: 1.4; margin-bottom: 10px }</style>\\n    …"
      ]
     },
     "execution_count": 2,
     "metadata": {},
     "output_type": "execute_result"
    }
   ],
   "source": [
    "import cosima_cookbook as cc\n",
    "dbx = cc.explore.DatabaseExplorer()\n",
    "dbx"
   ]
  },
  {
   "cell_type": "code",
   "execution_count": null,
   "id": "9bf657a3-08d0-4b46-b594-47422236fc9e",
   "metadata": {},
   "outputs": [],
   "source": []
  }
 ],
 "metadata": {
  "kernelspec": {
   "display_name": "Python [conda env:analysis3-23.04] *",
   "language": "python",
   "name": "conda-env-analysis3-23.04-py"
  },
  "language_info": {
   "codemirror_mode": {
    "name": "ipython",
    "version": 3
   },
   "file_extension": ".py",
   "mimetype": "text/x-python",
   "name": "python",
   "nbconvert_exporter": "python",
   "pygments_lexer": "ipython3",
   "version": "3.9.17"
  }
 },
 "nbformat": 4,
 "nbformat_minor": 5
}
