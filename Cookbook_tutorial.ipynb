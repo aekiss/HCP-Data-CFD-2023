{
 "cells": [
  {
   "cell_type": "markdown",
   "id": "c93c8f57-3a5b-4a17-a12d-460bd23173b0",
   "metadata": {},
   "source": [
    "#  COSIMA Cookbook tutorial\n",
    "\n",
    "See explanation here: https://cosima-recipes.readthedocs.io/en/latest/Tutorials/COSIMA_CookBook_Tutorial.html"
   ]
  },
  {
   "cell_type": "code",
   "execution_count": null,
   "id": "1aef32ed-134f-440c-9b47-054e90b223cd",
   "metadata": {},
   "outputs": [],
   "source": [
    "%matplotlib inline\n",
    "%config InlineBackend.figure_format='retina'\n",
    "\n",
    "import matplotlib.pyplot as plt\n",
    "import cmocean as cm\n",
    "import xarray as xr\n",
    "import numpy as np\n",
    "import IPython.display"
   ]
  },
  {
   "cell_type": "code",
   "execution_count": null,
   "id": "19568824-e78f-427d-8e14-f02688372fe3",
   "metadata": {},
   "outputs": [],
   "source": [
    "from dask.distributed import Client\n",
    "\n",
    "client = Client()\n",
    "client"
   ]
  },
  {
   "cell_type": "markdown",
   "id": "4b4711af-f1fb-449d-9f44-5bde4145dafc",
   "metadata": {},
   "source": [
    "Click \"Launch dashboard in JupyterLab\" to see activity on the available cores (4 cores for a medium ARE session)."
   ]
  },
  {
   "cell_type": "code",
   "execution_count": null,
   "id": "ac7552df-ac77-4545-a0c4-9510e1b57e02",
   "metadata": {},
   "outputs": [],
   "source": [
    "import cosima_cookbook as cc"
   ]
  },
  {
   "cell_type": "code",
   "execution_count": null,
   "id": "51021d26-34a1-49ff-992e-ae512598e632",
   "metadata": {},
   "outputs": [],
   "source": [
    "session = cc.database.create_session()"
   ]
  },
  {
   "cell_type": "code",
   "execution_count": null,
   "id": "3893f7f4-3628-489e-b84f-ad89f5065a51",
   "metadata": {},
   "outputs": [],
   "source": [
    "import pandas as pd\n",
    "pd.set_option(\"display.max_rows\", 20)"
   ]
  },
  {
   "cell_type": "code",
   "execution_count": null,
   "id": "8e06ceaf-fab7-4473-baf2-9f334211c88d",
   "metadata": {},
   "outputs": [],
   "source": [
    "cc.querying.get_experiments(session)"
   ]
  },
  {
   "cell_type": "code",
   "execution_count": null,
   "id": "49917483-3488-467b-99ec-931e1ee96ad8",
   "metadata": {},
   "outputs": [],
   "source": [
    "cc.querying.get_ncfiles(session, '025deg_jra55v13_iaf_gmredi6')"
   ]
  },
  {
   "cell_type": "code",
   "execution_count": null,
   "id": "c041d344-e810-44a8-a366-546929040c26",
   "metadata": {},
   "outputs": [],
   "source": [
    "cc.querying.get_variables(session, experiment='025deg_jra55v13_iaf_gmredi6', frequency='1 monthly')"
   ]
  },
  {
   "cell_type": "code",
   "execution_count": null,
   "id": "8559e481-8726-4bd2-b672-9fcf65f0fd6c",
   "metadata": {},
   "outputs": [],
   "source": [
    "vars_025deg = cc.querying.get_variables(session, experiment='025deg_jra55v13_iaf_gmredi6')\n",
    "vars_025deg[vars_025deg['name'].str.lower().str.contains('temp')]"
   ]
  },
  {
   "cell_type": "code",
   "execution_count": null,
   "id": "9c747645-f8b4-47af-bbfb-a5781b19a02d",
   "metadata": {},
   "outputs": [],
   "source": [
    "cc.querying.get_frequencies(session, experiment='025deg_jra55v13_iaf_gmredi6')"
   ]
  },
  {
   "cell_type": "code",
   "execution_count": null,
   "id": "389129b6-ec9f-4230-bbb6-4a183430274f",
   "metadata": {},
   "outputs": [],
   "source": [
    "help(cc.querying.getvar)"
   ]
  },
  {
   "cell_type": "code",
   "execution_count": null,
   "id": "c0d3448f-d562-4e06-a778-bc3de7ce4e72",
   "metadata": {},
   "outputs": [],
   "source": [
    "experiment = '025deg_jra55v13_iaf_gmredi6'\n",
    "variable = 'temp_global_ave'\n",
    "\n",
    "darray = cc.querying.getvar(experiment, variable, session)\n",
    "darray"
   ]
  },
  {
   "cell_type": "code",
   "execution_count": null,
   "id": "0c5c3375-eb30-46ae-a65c-2a6073d232d6",
   "metadata": {
    "scrolled": true
   },
   "outputs": [],
   "source": [
    "darray = cc.querying.getvar(experiment, variable, session,\n",
    "                            start_time = '2000-01-01',\n",
    "                            end_time = '2050-12-31')\n",
    "darray"
   ]
  },
  {
   "cell_type": "code",
   "execution_count": null,
   "id": "64ee62df-7aae-4cfb-8385-c32b9e6149f1",
   "metadata": {},
   "outputs": [],
   "source": [
    "experiment = '025deg_jra55v13_iaf_gmredi6'\n",
    "variable = 'temp_global_ave'\n",
    "darray = cc.querying.getvar(experiment, variable, session)"
   ]
  },
  {
   "cell_type": "code",
   "execution_count": null,
   "id": "f085de9c-e1c2-4e24-a153-5e780e380a17",
   "metadata": {},
   "outputs": [],
   "source": [
    "darray.plot();"
   ]
  },
  {
   "cell_type": "code",
   "execution_count": null,
   "id": "8dc68587-47f0-4709-a20c-0c1ebf6a3e93",
   "metadata": {},
   "outputs": [],
   "source": [
    "darray"
   ]
  },
  {
   "cell_type": "code",
   "execution_count": null,
   "id": "be830d53-3782-4aa0-8797-34ff4c8e50d7",
   "metadata": {},
   "outputs": [],
   "source": [
    "darray.plot()\n",
    "plt.xlabel('Year')\n",
    "plt.ylabel('Temperature (°C)')\n",
    "plt.title('Globally Averaged Temperature');"
   ]
  },
  {
   "cell_type": "code",
   "execution_count": null,
   "id": "43ed2cb2-7ecf-45e7-b381-7f9c9f3ab63b",
   "metadata": {},
   "outputs": [],
   "source": [
    "experiment = '025deg_jra55v13_iaf_gmredi6'\n",
    "variable = 'surface_temp'\n",
    "darray = cc.querying.getvar(experiment, variable, session, n=-1)\n",
    "darray.mean('time').plot();"
   ]
  },
  {
   "cell_type": "code",
   "execution_count": null,
   "id": "42d3fefe-abc0-4551-9238-fd3491743142",
   "metadata": {},
   "outputs": [],
   "source": [
    "temp_C = darray - 273.15 # convert from Kelvin to Celsius\n",
    "temp_C.mean('time').plot.contourf(levels=np.arange(-2, 32, 2), cmap=cm.cm.thermal);\n",
    "plt.ylabel('latitude')\n",
    "plt.xlabel('longitude');"
   ]
  },
  {
   "cell_type": "code",
   "execution_count": null,
   "id": "6cb3da31-5296-4df0-bff1-06028470bb9c",
   "metadata": {},
   "outputs": [],
   "source": [
    "darray = cc.querying.getvar('025deg_jra55v13_iaf_gmredi6', 'pot_rho_2', session)\n",
    "density = darray.isel(time = 200).sel(st_ocean = 1000, method='nearest')\n",
    "density.plot();"
   ]
  },
  {
   "cell_type": "code",
   "execution_count": null,
   "id": "ff3beb84-fa78-4400-a865-49260c60f1e6",
   "metadata": {},
   "outputs": [],
   "source": [
    "darray = cc.querying.getvar('1deg_jra55v13_iaf_spinup1_B1', 'v', session, ncfile=\"ocean.nc\")\n",
    "v = darray.isel(time = 100).sel(st_ocean=50, method='nearest').sel({'xu_ocean': slice(-230, -180),\n",
    "                                                                    'yu_ocean': slice(-50, -20)})\n",
    "v.plot()"
   ]
  },
  {
   "cell_type": "code",
   "execution_count": null,
   "id": "7f633f7d-dec2-4cdf-aaf5-37e4c1edc805",
   "metadata": {},
   "outputs": [],
   "source": [
    "darray = cc.querying.getvar('1deg_jra55v13_iaf_spinup1_B1', 'pot_rho_2', session, n=-10)\n",
    "darray.mean({'time', 'xt_ocean'}).plot(cmap=cm.cm.haline)\n",
    "plt.gca().invert_yaxis();"
   ]
  },
  {
   "cell_type": "code",
   "execution_count": null,
   "id": "7128c841-6389-4acf-b02d-35792584fbb6",
   "metadata": {},
   "outputs": [],
   "source": [
    "darray = cc.querying.getvar('025deg_jra55v13_iaf_gmredi6', 'temp_global_ave', session)\n",
    "meandata = darray.resample(time='A').mean(dim='time')\n",
    "meandata.plot();"
   ]
  },
  {
   "cell_type": "code",
   "execution_count": null,
   "id": "8a12744e-ae0b-42a1-b32f-81d019e45565",
   "metadata": {},
   "outputs": [],
   "source": []
  }
 ],
 "metadata": {
  "kernelspec": {
   "display_name": "Python [conda env:analysis3-23.04] *",
   "language": "python",
   "name": "conda-env-analysis3-23.04-py"
  },
  "language_info": {
   "codemirror_mode": {
    "name": "ipython",
    "version": 3
   },
   "file_extension": ".py",
   "mimetype": "text/x-python",
   "name": "python",
   "nbconvert_exporter": "python",
   "pygments_lexer": "ipython3",
   "version": "3.9.17"
  }
 },
 "nbformat": 4,
 "nbformat_minor": 5
}
